{
  "nbformat": 4,
  "nbformat_minor": 0,
  "metadata": {
    "colab": {
      "name": "Test_Git.ipynb",
      "provenance": [],
      "collapsed_sections": [],
      "include_colab_link": true
    },
    "kernelspec": {
      "display_name": "Python 3",
      "language": "python",
      "name": "python3"
    },
    "language_info": {
      "codemirror_mode": {
        "name": "ipython",
        "version": 3
      },
      "file_extension": ".py",
      "mimetype": "text/x-python",
      "name": "python",
      "nbconvert_exporter": "python",
      "pygments_lexer": "ipython3",
      "version": "3.7.6"
    }
  },
  "cells": [
    {
      "cell_type": "markdown",
      "metadata": {
        "id": "view-in-github",
        "colab_type": "text"
      },
      "source": [
        "<a href=\"https://colab.research.google.com/github/iypc-team/CurrentProject/blob/master/Test_Git.ipynb\" target=\"_parent\"><img src=\"https://colab.research.google.com/assets/colab-badge.svg\" alt=\"Open In Colab\"/></a>"
      ]
    },
    {
      "cell_type": "code",
      "metadata": {
        "colab_type": "code",
        "id": "nLubqJS-d-g-",
        "colab": {}
      },
      "source": [
        "from __future__ import absolute_import\n",
        "from IPython.display import clear_output\n",
        "%pip install GitPython\n",
        "clear_output()\n",
        "\n",
        "import git, gitdb, os, pathlib, sys\n",
        "from os.path import *\n",
        "# from pathlib import Path\n",
        "import FileUtilities\n",
        "from FileUtilities import *\n",
        "print(f'{C.GREEN}OK')"
      ],
      "execution_count": null,
      "outputs": []
    },
    {
      "cell_type": "code",
      "metadata": {
        "id": "6CK3OX-_1lFR",
        "colab_type": "code",
        "colab": {}
      },
      "source": [
        "print(fu.__all__())"
      ],
      "execution_count": null,
      "outputs": []
    },
    {
      "cell_type": "code",
      "metadata": {
        "colab_type": "code",
        "id": "EbrtpsIVd-iI",
        "colab": {}
      },
      "source": [
        "def getCoLabRepo():\n",
        "    colabRepoURL = 'https://github.com/iypc-team/CoLab'\n",
        "    localURL = join(fu.cwdPath, basename(colabRepoURL))\n",
        "    if not exists(localURL):\n",
        "        repo = git.Repo.clone_from(url=colabRepoURL, to_path=localURL)\n",
        "    else: print(f'{C.GREEN}{repo.description}')\n",
        "\n",
        "# List remotes\n",
        "print('Remotes:')\n",
        "for remote in repo.remotes:\n",
        "    print(f'- {remote.name} {remote.url}')\n",
        "\n"
      ],
      "execution_count": null,
      "outputs": []
    },
    {
      "cell_type": "code",
      "metadata": {
        "colab_type": "code",
        "id": "wiDtUSvJd-i3",
        "colab": {}
      },
      "source": [
        "bs='''\n",
        "import git\n",
        "\n",
        "repo = git.Repo('test_repo')\n",
        "\n",
        "# List remotes\n",
        "print('Remotes:')\n",
        "for remote in repo.remotes:\n",
        "    print(f'- {remote.name} {remote.url}')\n",
        "\n",
        "\n",
        "# Create a new remote\n",
        "try:\n",
        "    remote = repo.create_remote('origin', url='git@github.com:iypc-team/TestRepo')\n",
        "except git.exc.GitCommandError as error:\n",
        "    print(f'Error creating remote: {error}')\n",
        "\n",
        "# Reference a remote by its name as part of the object\n",
        "print(f'Remote name: {repo.remotes.origin.name}')\n",
        "print(f'Remote URL: {repo.remotes.origin.url}')\n",
        "\n",
        "\n",
        "# Delete a remote\n",
        "repo.delete_remote('myremote')\n",
        "\n",
        "# Pull from remote repo\n",
        "print(repo.remotes.origin.pull())\n",
        "# Push changes\n",
        "print(repo.remotes.origin.push())\n",
        "'''"
      ],
      "execution_count": null,
      "outputs": []
    }
  ]
}
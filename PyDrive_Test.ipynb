{
  "nbformat": 4,
  "nbformat_minor": 0,
  "metadata": {
    "kernelspec": {
      "display_name": "Python 3",
      "language": "python",
      "name": "python3"
    },
    "language_info": {
      "codemirror_mode": {
        "name": "ipython",
        "version": 3
      },
      "file_extension": ".py",
      "mimetype": "text/x-python",
      "name": "python",
      "nbconvert_exporter": "python",
      "pygments_lexer": "ipython3",
      "version": "3.7.8"
    },
    "colab": {
      "name": "PyDrive_Test.ipynb",
      "provenance": [],
      "collapsed_sections": [],
      "include_colab_link": true
    }
  },
  "cells": [
    {
      "cell_type": "markdown",
      "metadata": {
        "id": "view-in-github",
        "colab_type": "text"
      },
      "source": [
        "<a href=\"https://colab.research.google.com/github/iypc-team/CurrentProject/blob/master/PyDrive_Test.ipynb\" target=\"_parent\"><img src=\"https://colab.research.google.com/assets/colab-badge.svg\" alt=\"Open In Colab\"/></a>"
      ]
    },
    {
      "cell_type": "code",
      "metadata": {
        "id": "j6itPFW_3PMz",
        "colab_type": "code",
        "colab": {
          "base_uri": "https://localhost:8080/",
          "height": 45
        },
        "outputId": "ed6b99ac-da55-43a4-d286-4d25093e05a6"
      },
      "source": [
        "# 08/02/2020-1\n",
        "!pip install -U -q PyDrive\n",
        "from pydrive.auth import GoogleAuth\n",
        "from pydrive.drive import GoogleDrive\n",
        "from google.colab import auth\n",
        "from oauth2client.client import GoogleCredentials\n",
        "from os.path import *\n",
        "\n",
        "# Authenticate and create the PyDrive client.\n",
        "auth.authenticate_user()\n",
        "gauth = GoogleAuth()\n",
        "gauth.credentials = GoogleCredentials.get_application_default()\n",
        "drive = GoogleDrive(gauth)\n",
        "print('Ok')"
      ],
      "execution_count": 1,
      "outputs": [
        {
          "output_type": "stream",
          "text": [
            "Ok\n"
          ],
          "name": "stdout"
        }
      ]
    },
    {
      "cell_type": "code",
      "metadata": {
        "id": "O3R419cubQBU",
        "colab_type": "code",
        "colab": {
          "base_uri": "https://localhost:8080/",
          "height": 315
        },
        "outputId": "74338a4d-fe79-4dfe-98dc-341b748f1f5d"
      },
      "source": [
        "!pwd\n",
        "print()\n",
        "!ls # List contents of directory \n",
        "print()\n",
        "!ls -l # To show more details at the -l option \n",
        "print()\n",
        "!mkdir PythonFiles # To make a directory\n",
        "print()\n",
        "!ls -l\n"
      ],
      "execution_count": 5,
      "outputs": [
        {
          "output_type": "stream",
          "text": [
            "/content\n",
            "\n",
            "adc.json  PythonFiles  sample_data\n",
            "\n",
            "total 12\n",
            "-rw-r--r-- 1 root root 2666 Aug  2 15:51 adc.json\n",
            "drwxr-xr-x 2 root root 4096 Aug  2 18:45 PythonFiles\n",
            "drwxr-xr-x 1 root root 4096 Jul 30 16:30 sample_data\n",
            "\n",
            "mkdir: cannot create directory ‘PythonFiles’: File exists\n",
            "\n",
            "total 12\n",
            "-rw-r--r-- 1 root root 2666 Aug  2 15:51 adc.json\n",
            "drwxr-xr-x 2 root root 4096 Aug  2 18:45 PythonFiles\n",
            "drwxr-xr-x 1 root root 4096 Jul 30 16:30 sample_data\n"
          ],
          "name": "stdout"
        }
      ]
    },
    {
      "cell_type": "code",
      "metadata": {
        "id": "upfsxtjS34xG",
        "colab_type": "code",
        "colab": {}
      },
      "source": [
        "# help(drive.attr)\n",
        "# googleDriveFilesDict = drive.attr\n",
        "gdFiles = drive.\n",
        "\n",
        "gdFiles\n"
      ],
      "execution_count": null,
      "outputs": []
    }
  ]
}
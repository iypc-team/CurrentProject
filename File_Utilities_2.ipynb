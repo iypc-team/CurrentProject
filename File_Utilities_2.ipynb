{
  "nbformat": 4,
  "nbformat_minor": 0,
  "metadata": {
    "colab": {
      "name": "File_Utilities_2.ipynb",
      "provenance": [],
      "collapsed_sections": [],
      "include_colab_link": true
    },
    "kernelspec": {
      "display_name": "Python 3",
      "language": "python",
      "name": "python3"
    },
    "language_info": {
      "codemirror_mode": {
        "name": "ipython",
        "version": 3
      },
      "file_extension": ".py",
      "mimetype": "text/x-python",
      "name": "python",
      "nbconvert_exporter": "python",
      "pygments_lexer": "ipython3",
      "version": "3.7.6"
    }
  },
  "cells": [
    {
      "cell_type": "markdown",
      "metadata": {
        "id": "view-in-github",
        "colab_type": "text"
      },
      "source": [
        "<a href=\"https://colab.research.google.com/github/iypc-team/CurrentProject/blob/master/File_Utilities_2.ipynb\" target=\"_parent\"><img src=\"https://colab.research.google.com/assets/colab-badge.svg\" alt=\"Open In Colab\"/></a>"
      ]
    },
    {
      "cell_type": "code",
      "metadata": {
        "cellView": "both",
        "colab_type": "code",
        "id": "zQNbWtCEs1eT",
        "colab": {
          "base_uri": "https://localhost:8080/",
          "height": 42
        },
        "outputId": "578907cf-bf9c-40a2-eb89-b045f7941bbb"
      },
      "source": [
        "# %%writefile FileUtilities.py\n",
        "import glob, os, pathlib, sys\n",
        "from os.path import *\n",
        "from pathlib import Path\n",
        "\n",
        "class ColorOutput:\n",
        "    LITE = '\\033[96m'; HEADER = '\\033[95m'; BLUE = '\\033[94m';\n",
        "    WARNING = '\\033[93m'; GREEN = '\\033[92m'; RED = '\\033[91m'; \n",
        "    DARK = '\\033[90m'; UNDERLINE = '\\033[4m';BOLD = '\\033[1m'; \n",
        "    WHITE = '\\033[0m'\n",
        "global C\n",
        "C = ColorOutput()\n",
        "\n",
        "class FileUtilities(ColorOutput):\n",
        "    __all__ = ['C', 'allFiles', 'allFilesDict', 'cwdPath', 'homePath', \n",
        "           'inspectFile', 'listFiles', 'printSystemPaths', \n",
        "           'setSystemPaths', 'updateAllFiles']\n",
        "    def __init__(self):\n",
        "        self.C = ColorOutput\n",
        "        self.homePath = Path.home()\n",
        "        self.cwdPath = Path.cwd()\n",
        "        self.allFiles = glob.glob('**', recursive=True)\n",
        "        self.allFilesDict = {}\n",
        "\n",
        "    def updateAllFiles(self):\n",
        "        self.allFiles = glob.glob('**', recursive=True)\n",
        "\n",
        "    def setSystemPaths(self, addNewPath, quit=True):  \n",
        "        addNewPath = realpath(addNewPath)\n",
        "        pathList = sys.path.copy()\n",
        "        if not addNewPath in pathList and exists(addNewPath):\n",
        "            sys.path.append(addNewPath)\n",
        "\n",
        "    def listFiles(self, quiet=False):\n",
        "        self.updateAllFiles()\n",
        "        self.allFiles = sorted(self.allFiles)\n",
        "        tempDict = self.allFilesDict\n",
        "        fileCount = 0\n",
        "        if not quiet:\n",
        "            print(f'{C.BLUE}{self.cwdPath}')\n",
        "        self.setSystemPaths(addNewPath=self.cwdPath)\n",
        "        for fil in self.allFiles:\n",
        "            fullPath = Path(realpath(fil)) # POSIX path\n",
        "            realPath = realpath(fil) # String path\n",
        "            if isdir(fullPath) and not realPath.__contains__('__pycache__'):  \n",
        "                if not quiet:\n",
        "                    print(f'\\n{C.BLUE}{fullPath}')\n",
        "                self.setSystemPaths(addNewPath=realPath) \n",
        "            elif isfile(fullPath) and not realPath.__contains__('__pycache__'): \n",
        "                fileCount += 1\n",
        "                if not quiet:\n",
        "                    print(f'{C.WHITE}{fileCount}. {fullPath.name}') \n",
        "                tempDict[fileCount] = fullPath\n",
        "                self.allFilesDict = {}\n",
        "                self.allFilesDict.update(tempDict)\n",
        "\n",
        "    def inspectFile(self, selection):\n",
        "        if selection <= len(self.allFilesDict):  \n",
        "            try:\n",
        "                pth = self.allFilesDict[selection]  \n",
        "                with open(pth, 'r') as openFile:  \n",
        "                    print(f'# %%writefile {pth.name}\\n')  \n",
        "                    print(openFile.read())\n",
        "            except:\n",
        "                print(f'{C.RED}BULLSHIT')\n",
        "\n",
        "    def printSystemPaths(self):\n",
        "        pathList = sys.path.copy() \n",
        "        pathCount = 0\n",
        "        for pth in sorted(pathList):\n",
        "            pathCount += 1\n",
        "            print(f'{C.WHITE}{pathCount}. {C.BLUE}{pth}')\n",
        "\n",
        "global fu\n",
        "fu = FileUtilities()\n",
        "fu.listFiles(quiet=True)\n",
        "print(f'fu = {C.HEADER}FileUtilities()')\n",
        "# print(f'{C.WHITE}__all__ {fu.__all__}')"
      ],
      "execution_count": 4,
      "outputs": [
        {
          "output_type": "stream",
          "text": [
            "fu = \u001b[95mFileUtilities()\n"
          ],
          "name": "stdout"
        }
      ]
    },
    {
      "cell_type": "code",
      "metadata": {
        "colab_type": "code",
        "id": "SVWbZxQuXrqg",
        "colab": {
          "base_uri": "https://localhost:8080/",
          "height": 307
        },
        "outputId": "64a196ba-9915-48ed-c2b4-e42dada416d9"
      },
      "source": [
        "fu.listFiles()"
      ],
      "execution_count": 5,
      "outputs": [
        {
          "output_type": "stream",
          "text": [
            "\u001b[94m/content\n",
            "\u001b[0m1. FileUtilities.py\n",
            "\n",
            "\u001b[94m/content/sample_data\n",
            "\u001b[0m2. README.md\n",
            "\u001b[0m3. anscombe.json\n",
            "\u001b[0m4. california_housing_test.csv\n",
            "\u001b[0m5. california_housing_train.csv\n",
            "\u001b[0m6. mnist_test.csv\n",
            "\u001b[0m7. mnist_train_small.csv\n"
          ],
          "name": "stdout"
        }
      ]
    }
  ]
}
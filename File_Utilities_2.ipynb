{
  "nbformat": 4,
  "nbformat_minor": 0,
  "metadata": {
    "colab": {
      "name": "File_Utilities_2.ipynb",
      "provenance": [],
      "collapsed_sections": [],
      "include_colab_link": true
    },
    "kernelspec": {
      "display_name": "Python 3",
      "language": "python",
      "name": "python3"
    },
    "language_info": {
      "codemirror_mode": {
        "name": "ipython",
        "version": 3
      },
      "file_extension": ".py",
      "mimetype": "text/x-python",
      "name": "python",
      "nbconvert_exporter": "python",
      "pygments_lexer": "ipython3",
      "version": "3.7.6"
    }
  },
  "cells": [
    {
      "cell_type": "markdown",
      "metadata": {
        "id": "view-in-github",
        "colab_type": "text"
      },
      "source": [
        "<a href=\"https://colab.research.google.com/github/iypc-team/CurrentProject/blob/master/File_Utilities_2.ipynb\" target=\"_parent\"><img src=\"https://colab.research.google.com/assets/colab-badge.svg\" alt=\"Open In Colab\"/></a>"
      ]
    },
    {
      "cell_type": "code",
      "metadata": {
        "cellView": "both",
        "colab_type": "code",
        "id": "zQNbWtCEs1eT",
        "colab": {
          "base_uri": "https://localhost:8080/",
          "height": 1000
        },
        "outputId": "a2f4231e-c121-47e9-8f1b-0ef70a2366cf"
      },
      "source": [
        "# %%writefile FileUtilities.py\n",
        "from __future__ import absolute_import\n",
        "from IPython.display import clear_output\n",
        "import glob, os, pathlib, sys\n",
        "from os.path import *\n",
        "from pathlib import Path\n",
        "\n",
        "class ColorOutput:\n",
        "    LITE = '\\033[96m'; HEADER = '\\033[95m'; BLUE = '\\033[94m';\n",
        "    WARNING = '\\033[93m'; GREEN = '\\033[92m'; RED = '\\033[91m'; \n",
        "    DARK = '\\033[90m'; UNDERLINE = '\\033[4m';BOLD = '\\033[1m'; \n",
        "    WHITE = '\\033[0m'\n",
        "global C\n",
        "C = ColorOutput()\n",
        "\n",
        "class FileUtilities(ColorOutput):\n",
        "    __all__ = ['C', 'allFiles', 'allFilesDict', 'cwdPath', 'homePath', \n",
        "           'inspectFile', 'listFiles', 'printSystemPaths', \n",
        "           'setSystemPaths', 'updateAllFiles', 'GITHUB_TOKEN']\n",
        "    githubAccessToken = ''\n",
        "    def __init__(self):\n",
        "        self.C = ColorOutput\n",
        "        self.homePath = Path.home()\n",
        "        self.cwdPath = Path.cwd()\n",
        "        self.allFiles = glob.glob('**', recursive=True)\n",
        "        self.allFilesDict = {}\n",
        "        self.GITHUB_TOKEN = 'Access token revoked. Get a new token.'\n",
        "\n",
        "    def updateAllFiles(self):\n",
        "        self.allFiles = glob.glob('**', recursive=True)\n",
        "\n",
        "    def setSystemPaths(self, addNewPath, quit=True):  \n",
        "        addNewPath = realpath(addNewPath)\n",
        "        pathList = sys.path.copy()\n",
        "        if not addNewPath in pathList and exists(addNewPath):\n",
        "            sys.path.append(addNewPath)\n",
        "\n",
        "    def listFiles(self, quiet=False):\n",
        "        self.updateAllFiles()\n",
        "        self.allFiles = sorted(self.allFiles)\n",
        "        tempDict = self.allFilesDict\n",
        "        fileCount = 0\n",
        "        if not quiet:\n",
        "            print(f'{C.BLUE}{self.cwdPath}')\n",
        "        self.setSystemPaths(addNewPath=self.cwdPath)\n",
        "        for fil in self.allFiles:\n",
        "            fullPath = Path(realpath(fil)) # POSIX path\n",
        "            realPath = realpath(fil) # String path\n",
        "            if isdir(fullPath) and not realPath.__contains__('__pycache__'):  \n",
        "                if not quiet:\n",
        "                    print(f'\\n{C.BLUE}{fullPath}')\n",
        "                self.setSystemPaths(addNewPath=realPath) \n",
        "            elif isfile(fullPath) and not realPath.__contains__('__pycache__'): \n",
        "                fileCount += 1\n",
        "                if not quiet:\n",
        "                    print(f'{C.WHITE}{fileCount}. {fullPath.name}') \n",
        "                tempDict[fileCount] = fullPath\n",
        "                self.allFilesDict = {}\n",
        "                self.allFilesDict.update(tempDict)\n",
        "\n",
        "    def inspectFile(self, selection):\n",
        "        print('\\n')\n",
        "        if selection <= len(self.allFilesDict):  \n",
        "            try:\n",
        "                pth = self.allFilesDict[selection]  \n",
        "                with open(pth, 'r') as openFile:  \n",
        "                    print(f'# %%writefile {pth.name}\\n')  \n",
        "                    print(openFile.read())\n",
        "            except:\n",
        "                print(f'{C.RED}BULLSHIT')\n",
        "\n",
        "    def printSystemPaths(self):\n",
        "        pathList = sys.path.copy() \n",
        "        pathCount = 0\n",
        "        for pth in sorted(pathList):\n",
        "            pathCount += 1\n",
        "            print(f'{C.WHITE}{pathCount}. {C.BLUE}{pth}')\n",
        "\n",
        "global fu\n",
        "fu = FileUtilities()\n",
        "fu.listFiles(quiet=True)\n",
        "print(f'fu = {C.WHITE}FileUtilities()\\n')\n",
        "# print(f'{C.WHITE}__all__ {fu.__all__}')\n",
        "fu.listFiles()"
      ],
      "execution_count": 1,
      "outputs": [
        {
          "output_type": "stream",
          "text": [
            "fu = \u001b[0mFileUtilities()\n",
            "\n",
            "\u001b[94m/content\n",
            "\n",
            "\u001b[94m/content/CoLab\n",
            "\u001b[0m1. 00_DQN_Tutorial.ipynb\n",
            "\u001b[0m2. 01_Scrape.ipynb\n",
            "\u001b[0m3. AccessGoogleDrive.ipynb\n",
            "\u001b[0m4. Accessing_GitHub.ipynb\n",
            "\u001b[0m5. Accessing_files.ipynb\n",
            "\u001b[0m6. BasicComputerVision.ipynb\n",
            "\u001b[0m7. CartPole_Krohn.ipynb\n",
            "\u001b[0m8. ColorUtil.ipynb\n",
            "\u001b[0m9. ColorUtil.py\n",
            "\u001b[0m10. Copy_of_AccessGoogleDrive.ipynb\n",
            "\u001b[0m11. Copy_of_File_Utilities_2.ipynb\n",
            "\u001b[0m12. Copy_of_GDrive.ipynb\n",
            "\u001b[0m13. DDQN_Keras.ipynb\n",
            "\u001b[0m14. DQN_Tutorial.ipynb\n",
            "\u001b[0m15. DQN_with_GPU.ipynb\n",
            "\u001b[0m16. Drive.ipynb\n",
            "\u001b[0m17. DuelingDeepQNetwork.ipynb\n",
            "\u001b[0m18. Dueling_ddqn_torch.ipynb\n",
            "\u001b[0m19. External_data.ipynb\n",
            "\u001b[0m20. File_Utilities.ipynb\n",
            "\u001b[0m21. File_Utilities_2.ipynb\n",
            "\u001b[0m22. FrozenLake_2.ipynb\n",
            "\u001b[0m23. Functional_API.ipynb\n",
            "\u001b[0m24. GDrive.ipynb\n",
            "\u001b[0m25. GetLocalFiles.ipynb\n",
            "\u001b[0m26. GetUserInput.ipynb\n",
            "\u001b[0m27. GitHubFiles.ipynb\n",
            "\u001b[0m28. Gym_Environment_Variables.ipynb\n",
            "\u001b[0m29. Iris_swift.ipynb\n",
            "\u001b[0m30. Iterable.ipynb\n",
            "\u001b[0m31. Keras_Fashion_MNIST.ipynb\n",
            "\u001b[0m32. PhilTabor.ipynb\n",
            "\u001b[0m33. Phil_Tabor_CoLab.ipynb\n",
            "\u001b[0m34. Pip_Installs.ipynb\n",
            "\u001b[0m35. PredictArrayValues.ipynb\n",
            "\u001b[0m36. Python_Imports.ipynb\n",
            "\u001b[0m37. Python_Notebook.ipynb\n",
            "\u001b[0m38. Python_swift.ipynb\n",
            "\u001b[0m39. Requests_Module.ipynb\n",
            "\u001b[0m40. Snippets_Accessing_files.ipynb\n",
            "\u001b[0m41. TF_Agents_Environments_Tutorial.ipynb\n",
            "\u001b[0m42. TF_Agents_Policies_Tutorial.ipynb\n",
            "\u001b[0m43. TPUs_Colab.ipynb\n",
            "\u001b[0m44. TPUs_in_Colab.ipynb\n",
            "\u001b[0m45. TensorFlow_2_0_with_GPU.ipynb\n",
            "\u001b[0m46. TensorFlow_with_GPU.ipynb\n",
            "\u001b[0m47. Three_Dimensional_Plotting.ipynb\n",
            "\u001b[0m48. TorchTest.ipynb\n",
            "\u001b[0m49. iCloud.ipynb\n",
            "\u001b[0m50. FileUtilities.py\n",
            "\n",
            "\u001b[94m/content/sample_data\n",
            "\u001b[0m51. README.md\n",
            "\u001b[0m52. anscombe.json\n",
            "\u001b[0m53. california_housing_test.csv\n",
            "\u001b[0m54. california_housing_train.csv\n",
            "\u001b[0m55. mnist_test.csv\n",
            "\u001b[0m56. mnist_train_small.csv\n"
          ],
          "name": "stdout"
        }
      ]
    },
    {
      "cell_type": "code",
      "metadata": {
        "colab_type": "code",
        "id": "SVWbZxQuXrqg",
        "colab": {
          "base_uri": "https://localhost:8080/",
          "height": 55
        },
        "outputId": "dcfd419b-5432-4518-b9c5-34e9194b162e"
      },
      "source": [
        "print(f'{C.WARNING}')\n",
        "%pip install GitPython\n",
        "clear_output()\n",
        "print(f'{C.GREEN}OK')"
      ],
      "execution_count": 2,
      "outputs": [
        {
          "output_type": "stream",
          "text": [
            "\u001b[92mOK\n"
          ],
          "name": "stdout"
        }
      ]
    },
    {
      "cell_type": "code",
      "metadata": {
        "colab_type": "code",
        "id": "ncVAm_TVAaY5",
        "colab": {
          "base_uri": "https://localhost:8080/",
          "height": 55
        },
        "outputId": "9c99b4fd-3b24-4fa2-8bc5-92a5a798b376"
      },
      "source": [
        "import git\n",
        "from git import *\n",
        "# help(git.Repo)\n",
        "print(f'{C.GREEN}OK')"
      ],
      "execution_count": 3,
      "outputs": [
        {
          "output_type": "stream",
          "text": [
            "\u001b[92mOK\n"
          ],
          "name": "stdout"
        }
      ]
    },
    {
      "cell_type": "code",
      "metadata": {
        "id": "n5yKliJVKHCQ",
        "colab_type": "code",
        "colab": {
          "base_uri": "https://localhost:8080/",
          "height": 55
        },
        "outputId": "061ae735-10da-415f-ed8c-6e3ba1303074"
      },
      "source": [
        "projectPath = 'https://github.com/iypc-team/CoLab'\n",
        "localPath = join(Path.cwd(), basename(projectPath))\n",
        "print(f'{C.BLUE}{localPath}')\n",
        "# repo = Repo(path=projectPath).git\n",
        "# index = Repo(path=projectPath).index\n",
        "\n",
        "def git_clone():\n",
        "    if not exists(localPath):\n",
        "        repo = Repo.clone_from(projectPath, localPath)\n",
        "        index = Repo.clone_from(projectPath, localPath).index\n",
        "    else: \n",
        "        print(f'{C.RED}{C.BOLD}{localPath} already exists')\n",
        "\n",
        "\n",
        "    # repo.git.checkout(\"-b\", \"feature/pythontest\")\n",
        "\n",
        "    # I have done with file updates \n",
        "    # repo.git.add(update=True)\n",
        "    # repo.index.commit(\"commit\")\n",
        "    # origin = repo.remote(name=\"origin\")\n",
        "    # origin.push()"
      ],
      "execution_count": 4,
      "outputs": [
        {
          "output_type": "stream",
          "text": [
            "\u001b[94m/content/CoLab\n"
          ],
          "name": "stdout"
        }
      ]
    },
    {
      "cell_type": "code",
      "metadata": {
        "id": "TMv2wu4vhQ1G",
        "colab_type": "code",
        "colab": {
          "base_uri": "https://localhost:8080/",
          "height": 55
        },
        "outputId": "ce6b9d1b-e9b0-4d42-e0c9-6aa295895e8e"
      },
      "source": [
        "git_clone()"
      ],
      "execution_count": 5,
      "outputs": [
        {
          "output_type": "stream",
          "text": [
            "\u001b[91m\u001b[1m/content/CoLab already exists\n"
          ],
          "name": "stdout"
        }
      ]
    },
    {
      "cell_type": "code",
      "metadata": {
        "id": "Sb_K-90oKHCj",
        "colab_type": "code",
        "colab": {}
      },
      "source": [
        "fu.listFiles()"
      ],
      "execution_count": null,
      "outputs": []
    }
  ]
}
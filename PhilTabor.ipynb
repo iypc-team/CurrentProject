{
  "nbformat": 4,
  "nbformat_minor": 0,
  "metadata": {
    "kernelspec": {
      "display_name": "Python 3",
      "language": "python",
      "name": "python3"
    },
    "language_info": {
      "codemirror_mode": {
        "name": "ipython",
        "version": 3
      },
      "file_extension": ".py",
      "mimetype": "text/x-python",
      "name": "python",
      "nbconvert_exporter": "python",
      "pygments_lexer": "ipython3",
      "version": "3.7.6"
    },
    "colab": {
      "name": "PhilTabor.ipynb",
      "provenance": [],
      "collapsed_sections": [],
      "include_colab_link": true
    }
  },
  "cells": [
    {
      "cell_type": "markdown",
      "metadata": {
        "id": "view-in-github",
        "colab_type": "text"
      },
      "source": [
        "<a href=\"https://colab.research.google.com/github/iypc-team/CurrentProject/blob/master/PhilTabor.ipynb\" target=\"_parent\"><img src=\"https://colab.research.google.com/assets/colab-badge.svg\" alt=\"Open In Colab\"/></a>"
      ]
    },
    {
      "cell_type": "code",
      "metadata": {
        "id": "WAKp4fX1o-ip",
        "colab_type": "code",
        "colab": {}
      },
      "source": [
        "# !pip install GitPython"
      ],
      "execution_count": null,
      "outputs": []
    },
    {
      "cell_type": "code",
      "metadata": {
        "id": "TGp-kEowjvoH",
        "colab_type": "code",
        "colab": {}
      },
      "source": [
        "import os\n",
        "from google.colab import drive\n",
        "gDrive = drive.mount(\"/gdrive\", force_remount=True) \n",
        "workingDir = os.path.realpath(\"/gdrive/My Drive\")\n",
        "os.chdir(workingDir)\n",
        "%pwd"
      ],
      "execution_count": null,
      "outputs": []
    },
    {
      "cell_type": "code",
      "metadata": {
        "id": "gFL9_Ga9mUJ6",
        "colab_type": "code",
        "colab": {}
      },
      "source": [
        "import FileUtilities\n",
        "from FileUtilities import *\n",
        "import git, gitdb, glob, os, pathlib, sys\n",
        "from os.path import *\n",
        "from pathlib import Path\n",
        "from git import Repo\n",
        "\n",
        "ptaborPath = join(workingDir, 'PhilTabor')\n",
        "if not isdir(ptaborPath):\n",
        "    Repo.clone_from('https://github.com/philtabor/Actor-Critic-Methods-Paper-To-Code', 'PhilTabor')\n",
        "\n",
        "fu.listFiles(silent=True)"
      ],
      "execution_count": null,
      "outputs": []
    },
    {
      "cell_type": "code",
      "metadata": {
        "id": "PBD_Ss4_vC-v",
        "colab_type": "code",
        "colab": {}
      },
      "source": [
        "\n",
        "gDriveDict = {}\n",
        "fileCount = 0\n",
        "for fil in sorted(fu.allFiles):\n",
        "    fullPath = Path(realpath(fil))\n",
        "    if isdir(fullPath):\n",
        "        print(f'{C.Blue}{fullPath}')\n",
        "    elif isfile(fullPath) and fil.endswith('.py'):\n",
        "        fileCount += 1\n",
        "        gDriveDict[fileCount] = fullPath\n",
        "        stats = tzi.getFileStats(fullPath)\n",
        "        print(f'{C.White}{fileCount}. {fullPath.name}')\n",
        "        print(f'{stats}\\n')\n"
      ],
      "execution_count": null,
      "outputs": []
    },
    {
      "cell_type": "code",
      "metadata": {
        "id": "BjMUwfCvvEOP",
        "colab_type": "code",
        "colab": {}
      },
      "source": [
        "fu.printSystemPaths()"
      ],
      "execution_count": null,
      "outputs": []
    }
  ]
}
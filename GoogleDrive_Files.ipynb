{
  "nbformat": 4,
  "nbformat_minor": 0,
  "metadata": {
    "colab": {
      "name": "GoogleDrive_Files.ipynb",
      "provenance": [],
      "private_outputs": true,
      "collapsed_sections": [],
      "include_colab_link": true
    },
    "kernelspec": {
      "display_name": "Python 3",
      "language": "python",
      "name": "python3"
    },
    "language_info": {
      "codemirror_mode": {
        "name": "ipython",
        "version": 3
      },
      "file_extension": ".py",
      "mimetype": "text/x-python",
      "name": "python",
      "nbconvert_exporter": "python",
      "pygments_lexer": "ipython3",
      "version": "3.7.8"
    }
  },
  "cells": [
    {
      "cell_type": "markdown",
      "metadata": {
        "id": "view-in-github",
        "colab_type": "text"
      },
      "source": [
        "<a href=\"https://colab.research.google.com/github/iypc-team/CurrentProject/blob/master/GoogleDrive_Files.ipynb\" target=\"_parent\"><img src=\"https://colab.research.google.com/assets/colab-badge.svg\" alt=\"Open In Colab\"/></a>"
      ]
    },
    {
      "cell_type": "code",
      "metadata": {
        "colab_type": "code",
        "id": "1ZoVYKlko6sv",
        "colab": {}
      },
      "source": [
        "# 08/02/2020-1\n",
        "from __future__ import absolute_import\n",
        "from IPython.display import clear_output\n",
        "import glob, os, pathlib, sys\n",
        "from os.path import *\n",
        "from pathlib import Path\n",
        "from google.colab import drive, files\n",
        "homePath = Path.home()\n",
        "cwdPath = Path.cwd()\n",
        "\n",
        "global allGDFiles\n",
        "allGDFiles = []\n",
        "global gdriveFilesDict\n",
        "gdriveFilesDict = {}\n",
        "\n",
        "def __init__(self):\n",
        "    self. gDrv = gDrv\n",
        "    self.gdriveFilesDict = gdriveFilesDict\n",
        "    self.allGDFiles = glob.glob('**', recursive=True)\n",
        "\n",
        "def getGoogleDrive():\n",
        "    try:\n",
        "        gD = drive.mount('/content/gDrive', force_remount=True, \n",
        "                              timeout_ms=600000,\n",
        "                              use_metadata_server=False)\n",
        "    except Exception as err:\n",
        "        print(err)\n",
        "\n",
        "def addSysPath(path=None, quiet=True):\n",
        "    sysPaths = sys.path.copy()\n",
        "    counter = 0\n",
        "    if not realpath(cwdPath) in sysPaths:\n",
        "        sys.path.append(realpath(cwdPath))\n",
        "\n",
        "    if not path==None and not path in sysPaths:\n",
        "        sys.path.append(path)\n",
        "\n",
        "    if not quiet:\n",
        "        for pth in sysPaths:\n",
        "            counter += 1\n",
        "            print(f'{counter}. {pth}')\n",
        "\n",
        "def updateSysPaths():\n",
        "    allGDFiles = glob.glob('**', recursive=True)\n",
        "    sysPaths = sys.path.copy()\n",
        "    if not realpath(cwdPath) in sysPaths:\n",
        "        sys.path.append(realpath(cwdPath))\n",
        "    else: pass\n",
        "    for fil in sorted(allGDFiles):\n",
        "        realPath = realpath(fil)\n",
        "        if isdir(realPath) and exists(realPath):\n",
        "            if not realPath in sysPaths:\n",
        "                sys.path.append(realPath)\n",
        "\n",
        "def listGoogleDriveFiles(quiet=True):\n",
        "    allGDFiles = glob.glob('**', recursive=True) \n",
        "    if not quiet: print(f'{C.BLUE}{cwdPath}')\n",
        "    counter = 0\n",
        "    for fil in sorted(allGDFiles):\n",
        "        realPath = realpath(fil)\n",
        "        if isdir(realPath):\n",
        "            addSysPath(path=realPath)\n",
        "            if not quiet:\n",
        "                print(f'\\n{C.BLUE}{realPath}')\n",
        "        elif isfile(realPath):\n",
        "            counter += 1\n",
        "            gdriveFilesDict[counter]= realPath\n",
        "            if not quiet:\n",
        "                print(f'{C.WHITE}{counter}. {basename(realPath)}')\n",
        "                print(f'{C.WHITE}{counter}. {realPath}')\n",
        "\n",
        "getGoogleDrive()\n",
        "updateSysPaths()\n",
        "import FileUtilities as fu\n",
        "from FileUtilities import *\n",
        "print(f'{C.GREEN}Ok')\n",
        "listGoogleDriveFiles()"
      ],
      "execution_count": null,
      "outputs": []
    },
    {
      "cell_type": "code",
      "metadata": {
        "id": "R5bOKQ0nDFZF",
        "colab_type": "code",
        "colab": {}
      },
      "source": [
        "listGoogleDriveFiles(quiet=False)"
      ],
      "execution_count": null,
      "outputs": []
    },
    {
      "cell_type": "code",
      "metadata": {
        "colab_type": "code",
        "id": "VKarVku7Qxa5",
        "colab": {}
      },
      "source": [
        "\n",
        "uploaded = files.upload()\n",
        "\n",
        "print(f'{len(uploaded)}')\n",
        "for fn in uploaded.keys():\n",
        "    print('User uploaded file \"{name}\" with length {length} bytes'.format(name=fn, length=len(uploaded[fn])))"
      ],
      "execution_count": null,
      "outputs": []
    },
    {
      "cell_type": "code",
      "metadata": {
        "colab_type": "code",
        "id": "ZSYfeSTsVRxb",
        "colab": {}
      },
      "source": [
        "# %config NotebookApp.data.rate_limit=100000000\n",
        "# %config NotebookApp.rate_limit_window=5.0\n",
        "\n",
        "def inspectGoogleDriveFile():\n",
        "    pth = gdriveFilesDict[17]\n",
        "    # dl = files.download(pth)\n",
        "    with open(pth, 'r') as openFile:\n",
        "        txt = openFile.read()\n",
        "        print(txt)\n",
        "        # dl = files.download(pth)\n",
        "inspectGoogleDriveFile()"
      ],
      "execution_count": null,
      "outputs": []
    },
    {
      "cell_type": "code",
      "metadata": {
        "colab_type": "code",
        "id": "GbB4_7ENLhyw",
        "colab": {}
      },
      "source": [
        "len(allGDFiles)"
      ],
      "execution_count": null,
      "outputs": []
    },
    {
      "cell_type": "code",
      "metadata": {
        "colab_type": "code",
        "id": "aQVQF9QnV2RY",
        "colab": {}
      },
      "source": [
        "\n",
        "# Fetch a single <1MB file using the raw GitHub URL.\n",
        "iypc = !curl --remote-name \\\n",
        "     -H 'Accept: application/vnd.github.v3.raw' \\\n",
        "     --location https://api.github.com/iypc-team/\n",
        "pth = iypc.get_paths()\n",
        "len(pth)"
      ],
      "execution_count": null,
      "outputs": []
    },
    {
      "cell_type": "code",
      "metadata": {
        "colab_type": "code",
        "id": "yTz9EAXr6cAl",
        "colab": {}
      },
      "source": [
        "%%writefile GoogleDriveUtils.py\n",
        "# 07/31/2020-2\n",
        "from __future__ import absolute_import\n",
        "from IPython.display import clear_output\n",
        "import glob, os, pathlib, sys\n",
        "from os.path import *\n",
        "from pathlib import Path\n",
        "from google.colab import drive, files\n",
        "homePath = Path.home()\n",
        "cwdPath = Path.cwd()\n",
        "\n",
        "global allGDFiles\n",
        "global gdriveFilesDict\n",
        "global gDrv\n",
        "\n",
        "def __init__(self):\n",
        "    self. gDrv = gDrv\n",
        "    self.gdriveFilesDict = gdriveFilesDict\n",
        "    self.allGDFiles = allGDFiles\n",
        "\n",
        "def getGoogleDrive():\n",
        "    try:\n",
        "        gD = drive.mount('gDrive', force_remount=True, \n",
        "                              timeout_ms=600000,\n",
        "                              use_metadata_server=False)\n",
        "    except Exception as err:\n",
        "        print(err)\n",
        "\n",
        "def addSysPath(path=None, quiet=True):\n",
        "    sysPaths = sys.path.copy()\n",
        "    counter = 0\n",
        "    if not realpath(cwdPath) in sysPaths:\n",
        "        sys.path.append(realpath(cwdPath))\n",
        "\n",
        "    if not path==None and not path in sysPaths:\n",
        "        sys.path.append(path)\n",
        "\n",
        "    if not quiet:\n",
        "        for pth in sysPaths:\n",
        "            counter += 1\n",
        "            print(f'{counter}. {pth}')\n",
        "\n",
        "def updateSysPaths():\n",
        "    allGDFiles = glob.glob('**', recursive=True)\n",
        "    for fil in allGDFiles:\n",
        "        realPath = realpath(fil)\n",
        "        if isdir(realPath) and exists(realPath):\n",
        "            sysPaths = sys.path.copy()\n",
        "            if not realPath in sysPaths:\n",
        "                sys.path.append(realPath)\n",
        "\n",
        "def listGoogleDriveFiles(quiet=True):\n",
        "    allGDFiles = glob.glob('**', recursive=True) \n",
        "    gdriveFilesDict = {}\n",
        "    print(f'{len(allGDFiles)} files in')\n",
        "    print(f'{C.BLUE}{cwdPath}')\n",
        "    counter = 0\n",
        "    for fil in sorted(allGDFiles):\n",
        "        realPath = realpath(fil)\n",
        "        if isdir(realPath):\n",
        "            addSysPath(path=realPath)\n",
        "            if not quiet:\n",
        "                print(f'\\n{C.BLUE}{realPath}')\n",
        "        elif isfile(realPath):\n",
        "            counter += 1\n",
        "            gdriveFilesDict[counter]= realPath\n",
        "            if not quiet:\n",
        "                print(f'{C.WHITE}{counter}. {basename(realPath)}')\n",
        "\n",
        "getGoogleDrive()\n",
        "updateSysPaths()\n",
        "import FileUtilities as fu\n",
        "from FileUtilities import *\n",
        "print(f'{C.GREEN}Ok')"
      ],
      "execution_count": null,
      "outputs": []
    }
  ]
}
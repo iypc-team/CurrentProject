{
  "nbformat": 4,
  "nbformat_minor": 0,
  "metadata": {
    "colab": {
      "name": "GoogleDrive_Files.ipynb",
      "provenance": [],
      "private_outputs": true,
      "collapsed_sections": [],
      "authorship_tag": "ABX9TyML8FZNNCMpqjGUieTxB583",
      "include_colab_link": true
    },
    "kernelspec": {
      "name": "python3",
      "display_name": "Python 3"
    }
  },
  "cells": [
    {
      "cell_type": "markdown",
      "metadata": {
        "id": "view-in-github",
        "colab_type": "text"
      },
      "source": [
        "<a href=\"https://colab.research.google.com/github/iypc-team/CurrentProject/blob/master/GoogleDrive_Files.ipynb\" target=\"_parent\"><img src=\"https://colab.research.google.com/assets/colab-badge.svg\" alt=\"Open In Colab\"/></a>"
      ]
    },
    {
      "cell_type": "code",
      "metadata": {
        "id": "3IULW-9ympr5",
        "colab_type": "code",
        "colab": {}
      },
      "source": [
        "from __future__ import absolute_import\n",
        "from IPython.display import clear_output\n",
        "import glob, os, pathlib\n",
        "from os.path import *\n",
        "from pathlib import Path"
      ],
      "execution_count": null,
      "outputs": []
    },
    {
      "cell_type": "code",
      "metadata": {
        "id": "RilKVJutQnGg",
        "colab_type": "code",
        "colab": {}
      },
      "source": [
        "\n",
        "from google.colab import drive\n",
        "# drive.mount('/gdrive')\n",
        "gdrivePath = join(os.curdir, '/gdrive')\n",
        "# %cd /gdrive\n",
        "# print(gdrivePath)\n",
        "os.chdir(gdrivePath)\n",
        "allFiles = glob.glob('**', recursive=True) \n",
        "print(f'glob {len(allFiles)} files')\n"
      ],
      "execution_count": null,
      "outputs": []
    },
    {
      "cell_type": "code",
      "metadata": {
        "id": "VKarVku7Qxa5",
        "colab_type": "code",
        "colab": {}
      },
      "source": [
        "from google.colab import files\n",
        "uploaded = {}\n",
        "def uploadFilesToGdrive():\n",
        "    uploaded = files.upload()\n",
        "if not 'FileUtilities' in allFiles:\n",
        "    print('not in allFiles')\n",
        "    uploadFilesToGdrive()\n",
        "else: print('exists')\n",
        "print(f'{len(uploaded)}')\n",
        "for fn in uploaded.keys():\n",
        "    print('User uploaded file \"{name}\" with length {length} bytes'.format(name=fn, length=len(uploaded[fn])))"
      ],
      "execution_count": null,
      "outputs": []
    },
    {
      "cell_type": "code",
      "metadata": {
        "id": "ZSYfeSTsVRxb",
        "colab_type": "code",
        "colab": {}
      },
      "source": [
        "from google.colab import files\n",
        "\n",
        "with open('example.txt', 'w') as f:\n",
        "  f.write('some content')\n",
        "\n",
        "files.download('example.txt')"
      ],
      "execution_count": null,
      "outputs": []
    },
    {
      "cell_type": "code",
      "metadata": {
        "id": "71cQ37XBV2Sf",
        "colab_type": "code",
        "colab": {}
      },
      "source": [
        "import FileUtilities\n",
        "from FileUtilities import *\n",
        "\n",
        "s.chdir('/gdrive/My Drive')\n",
        "# %cd /gdrive\n",
        "# clear_output()\n",
        "# %cd My Drive\n",
        "pth = curdir\n",
        "print(pth)\n",
        "# Clone the entire repo.\n",
        "if not exists(pth):\n",
        "    !git clone -l -s git://github.com/iypc-team/CurrentProject.git cloned-repo\n",
        "%cd cloned-repo\n",
        "print(os.curdir)\n",
        "!ls"
      ],
      "execution_count": null,
      "outputs": []
    },
    {
      "cell_type": "code",
      "metadata": {
        "id": "aQVQF9QnV2RY",
        "colab_type": "code",
        "colab": {}
      },
      "source": [
        "# Fetch a single <1MB file using the raw GitHub URL.\n",
        "!curl --remote-name \\\n",
        "     -H 'Accept: application/vnd.github.v3.raw' \\\n",
        "     --location https://api.github.com/repos/jakevdp/PythonDataScienceHandbook/contents/notebooks/data/california_cities.csv"
      ],
      "execution_count": null,
      "outputs": []
    }
  ]
}
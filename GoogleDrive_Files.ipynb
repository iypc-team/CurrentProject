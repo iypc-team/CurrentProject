{
  "nbformat": 4,
  "nbformat_minor": 0,
  "metadata": {
    "colab": {
      "name": "GoogleDrive_Files.ipynb",
      "provenance": [],
      "private_outputs": true,
      "collapsed_sections": [],
      "include_colab_link": true
    },
    "kernelspec": {
      "display_name": "Python 3",
      "language": "python",
      "name": "python3"
    },
    "language_info": {
      "codemirror_mode": {
        "name": "ipython",
        "version": 3
      },
      "file_extension": ".py",
      "mimetype": "text/x-python",
      "name": "python",
      "nbconvert_exporter": "python",
      "pygments_lexer": "ipython3",
      "version": "3.7.8"
    }
  },
  "cells": [
    {
      "cell_type": "markdown",
      "metadata": {
        "id": "view-in-github",
        "colab_type": "text"
      },
      "source": [
        "<a href=\"https://colab.research.google.com/github/iypc-team/CurrentProject/blob/master/GoogleDrive_Files.ipynb\" target=\"_parent\"><img src=\"https://colab.research.google.com/assets/colab-badge.svg\" alt=\"Open In Colab\"/></a>"
      ]
    },
    {
      "cell_type": "code",
      "metadata": {
        "colab_type": "code",
        "id": "1ZoVYKlko6sv",
        "colab": {}
      },
      "source": [
        "# 07/30/2020-3\n",
        "from __future__ import absolute_import\n",
        "from IPython.display import clear_output\n",
        "import glob, os, pathlib, sys\n",
        "from os.path import *\n",
        "from pathlib import Path\n",
        "from google.colab import drive, files\n",
        "homePath = Path.home()\n",
        "cwdPath = Path.cwd()\n",
        "global gD\n",
        "\n",
        "def getGoogleDrive():\n",
        "    try:\n",
        "        gD = drive.mount('gDrive', force_remount=True, timeout_ms=600000, \n",
        "            use_metadata_server=False)\n",
        "    except Exception as err:\n",
        "        print(err)\n",
        "\n",
        "def addSysPath(path=None, quiet=True):\n",
        "    sysPaths = sys.path.copy()\n",
        "    counter = 0\n",
        "    if not path==None and not path in sysPaths:\n",
        "        sys.path.append(path)\n",
        "\n",
        "    if not quiet:\n",
        "        for pth in sysPaths:\n",
        "            counter += 1\n",
        "            print(f'{counter}. {pth}')\n",
        "\n",
        "def updateSysPaths():\n",
        "    allGDriveFiles = glob.glob('**', recursive=True)\n",
        "    for fil in allGDriveFiles:\n",
        "        realPath = realpath(fil)\n",
        "        if isdir(realPath) and exists(realPath):\n",
        "            addSysPath(path=realPath)\n",
        "\n",
        "\n",
        "\n",
        "updateSysPaths()\n",
        "try:\n",
        "    import FileUtilities\n",
        "    from FileUtilities import *\n",
        "    print(f'{C.GREEN}Ok')\n",
        "except:\n",
        "    updateSysPaths()\n",
        "    import FileUtilities\n",
        "    from FileUtilities import *\n",
        "    print(f'{C.WARNING}Ok')\n"
      ],
      "execution_count": null,
      "outputs": []
    },
    {
      "cell_type": "code",
      "metadata": {
        "colab_type": "code",
        "id": "3IULW-9ympr5",
        "colab": {}
      },
      "source": [
        "def listGoogleDriveFiles():\n",
        "    allGDriveFiles = glob.glob('**', recursive=True) \n",
        "    allGDriveDict = {}\n",
        "    print(f'{len(allGDriveFiles)} files in')\n",
        "    counter = 0\n",
        "    for fil in sorted(allGDriveFiles):\n",
        "        realPath = realpath(fil)\n",
        "        if isdir(realPath):\n",
        "            addSysPath(path=realPath)\n",
        "            print(f'\\n{C.BLUE}{realPath}')\n",
        "        elif isfile(realPath):\n",
        "            counter += 1\n",
        "            print(f'{C.WHITE}{counter}. {basename(realPath)}')\n",
        "        \n",
        "# clear_output()\n",
        "listGoogleDriveFiles()"
      ],
      "execution_count": null,
      "outputs": []
    },
    {
      "cell_type": "code",
      "metadata": {
        "colab_type": "code",
        "id": "VKarVku7Qxa5",
        "colab": {}
      },
      "source": [
        "from google.colab import files\n",
        "uploaded = {}\n",
        "def uploadFilesToGdrive():\n",
        "    uploaded = files.upload()\n",
        "if not 'FileUtilities.py' in allGDriveFiles:\n",
        "    print('not in allGDriveFiles')\n",
        "    uploadFilesToGdrive()\n",
        "else: print('exists')\n",
        "print(f'{len(uploaded)}')\n",
        "for fn in uploaded.keys():\n",
        "    print('User uploaded file \"{name}\" with length {length} bytes'.format(name=fn, length=len(uploaded[fn])))"
      ],
      "execution_count": null,
      "outputs": []
    },
    {
      "cell_type": "code",
      "metadata": {
        "colab_type": "code",
        "id": "ZSYfeSTsVRxb",
        "colab": {}
      },
      "source": [
        "from google.colab import files\n",
        "\n",
        "with open('example.txt', 'w') as f:\n",
        "  f.write('some content')\n",
        "\n",
        "files.download('example.txt')"
      ],
      "execution_count": null,
      "outputs": []
    },
    {
      "cell_type": "code",
      "metadata": {
        "colab_type": "code",
        "id": "aQVQF9QnV2RY",
        "colab": {}
      },
      "source": [
        "# Fetch a single <1MB file using the raw GitHub URL.\n",
        "!curl --remote-name \\\n",
        "     -H 'Accept: application/vnd.github.v3.raw' \\\n",
        "     --location https://api.github.com/iypc-team"
      ],
      "execution_count": null,
      "outputs": []
    }
  ]
}
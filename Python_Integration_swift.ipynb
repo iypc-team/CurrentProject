{
  "nbformat": 4,
  "nbformat_minor": 0,
  "metadata": {
    "colab": {
      "provenance": [],
      "private_outputs": true,
      "collapsed_sections": [],
      "include_colab_link": true
    },
    "kernelspec": {
      "name": "swift",
      "display_name": "Swift"
    },
    "accelerator": "GPU"
  },
  "cells": [
    {
      "cell_type": "markdown",
      "metadata": {
        "id": "view-in-github",
        "colab_type": "text"
      },
      "source": [
        "<a href=\"https://colab.research.google.com/github/iypc-team/CurrentProject/blob/master/Python_Integration_swift.ipynb\" target=\"_parent\"><img src=\"https://colab.research.google.com/assets/colab-badge.svg\" alt=\"Open In Colab\"/></a>"
      ]
    },
    {
      "cell_type": "code",
      "metadata": {
        "id": "8GEkdk8t2ObT"
      },
      "source": [
        "import Dispatch\n",
        "import Foundation\n",
        "import FoundationNetworking\n",
        "import TensorFlow\n",
        "import Python\n",
        "\n",
        "%include \"EnableIPythonDisplay.swift\"\n",
        "\n",
        "let plt = Python.import(\"matplotlib.pyplot\")\n",
        "let np = Python.import(\"numpy\")\n",
        "let tf = Python.import(\"tensorflow\")\n",
        "var py = Python\n",
        "py.use\n",
        "\n",
        "print(tf.__version__)\n",
        "\n",
        "for item in py.builtins {\n",
        "    print(item)\n",
        "}\n"
      ],
      "execution_count": null,
      "outputs": []
    },
    {
      "cell_type": "code",
      "metadata": {
        "id": "6_Mb3V3BpoHe"
      },
      "source": [
        "class CreateModel: PythonConvertible {\n",
        "    var model = tf.keras.Sequential()\n",
        "\n",
        "    init() {\n",
        "        // self.model = model\n",
        "    }\n",
        "}\n",
        "\n",
        "let m = CreateModel()\n",
        "print(m.model)\n"
      ],
      "execution_count": null,
      "outputs": []
    },
    {
      "cell_type": "code",
      "metadata": {
        "id": "6BAaXQK92TW_"
      },
      "source": [
        "//. Convert Swift types to Python\n",
        "let pythonInt: PythonObject = 42\n",
        "let pythonFloat: PythonObject = 2.0\n",
        "let pythonString: PythonObject = \"Hello Python!\"\n",
        "let pythonRange: PythonObject = PythonObject(1..<10)\n",
        "let pythonArray: PythonObject = [1,2,3,4]\n",
        "let pythonDict: PythonObject = [\"foo\":[0], \"bar\":[98,99]]\n",
        "var pythonMatrix: PythonObject = np.ones([4,4])\n",
        "\n",
        "print(\"pythonInt:\", pythonInt)\n",
        "print(\"pythonFloat:\", pythonFloat)\n",
        "pythonFloat + pythonInt\n",
        "print(\"pythonString:\", pythonString)\n",
        "print(\"pythonRange:\", pythonRange)\n",
        "print(\"pythonArray:\", pythonArray)\n",
        "print(pythonDict[\"foo\"], pythonDict[\"bar\"])\n",
        "print(\"pythonMatrix:\",\"\\n\", pythonMatrix)\n"
      ],
      "execution_count": null,
      "outputs": []
    },
    {
      "cell_type": "code",
      "metadata": {
        "id": "pUwMdAHlR8Ns"
      },
      "source": [
        "//. Convert Python objects back to Swift\n",
        "let swiftInt = Int(pythonInt)!\n",
        "let swiftFloat = Float(pythonFloat)!\n",
        "let swiftString = String(pythonString)!\n",
        "let swiftRange = Range<Int>(pythonRange)!\n",
        "let swiftArray: [Int] = Array(pythonArray)!\n",
        "let swiftDict: [String:[Int]] = Dictionary(pythonDict)!\n",
        "var swiftMatrix = Array(pythonMatrix) //. This needs work\n"
      ],
      "execution_count": null,
      "outputs": []
    },
    {
      "cell_type": "code",
      "metadata": {
        "id": "4saPdrJoai_X"
      },
      "source": [
        "print(swiftInt)\n",
        "print(swiftFloat)\n",
        "print(swiftString)\n",
        "print(swiftRange)\n",
        "print(\"swiftArray:\", swiftArray)\n",
        "print(\"swiftDict.keys:\", swiftDict.keys)\n",
        "print(swiftDict[\"foo\"]!)\n",
        "print(swiftDict[\"bar\"]!)\n",
        "print(swiftMatrix)\n"
      ],
      "execution_count": null,
      "outputs": []
    },
    {
      "cell_type": "code",
      "metadata": {
        "id": "yDxigwA6rVt1"
      },
      "source": [
        "func multiply(a:PythonObject, b:PythonObject) -> PythonObject {\n",
        "    return a * b\n",
        "}\n",
        "\n",
        "var pVec1:PythonObject = np.array([1.0,2.0])\n",
        "var pVec2: PythonObject = np.array([3.0,-1.0])\n",
        "print(\"sum:\", pVec1 + pVec2)\n",
        "\n",
        "var pVec:PythonObject = np.array([1,1.001,1,1])\n",
        "var pMat:PythonObject = np.ones([4,4])\n",
        "\n",
        "var result = multiply(a: pVec1, b: 2.025)\n",
        "result = multiply(a: pMat, b: pVec)\n",
        "\n",
        "print(\"pVec1:\", pVec1)\n",
        "print(\"pVec2:\", pVec2)\n",
        "print(\"sum:\", pVec1 + pVec2)\n",
        "print()\n",
        "print(\"pVec:\", pVec)\n",
        "print(\"pMat:\", pMat)\n",
        "print(\"result:\")\n",
        "print(result)\n"
      ],
      "execution_count": null,
      "outputs": []
    },
    {
      "cell_type": "code",
      "metadata": {
        "id": "8hRFau-pbpEZ"
      },
      "source": [
        "let dPy:Double = Double.pi\n",
        "\n",
        "var swiftMatrix = Array(pMat)\n",
        "print(result)"
      ],
      "execution_count": null,
      "outputs": []
    }
  ]
}
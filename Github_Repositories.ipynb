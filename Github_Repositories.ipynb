{
  "nbformat": 4,
  "nbformat_minor": 0,
  "metadata": {
    "colab": {
      "name": "Github_Repositories.ipynb",
      "provenance": [],
      "collapsed_sections": [],
      "include_colab_link": true
    },
    "kernelspec": {
      "display_name": "Python 3",
      "language": "python",
      "name": "python3"
    },
    "language_info": {
      "codemirror_mode": {
        "name": "ipython",
        "version": 3
      },
      "file_extension": ".py",
      "mimetype": "text/x-python",
      "name": "python",
      "nbconvert_exporter": "python",
      "pygments_lexer": "ipython3",
      "version": "3.7.6"
    }
  },
  "cells": [
    {
      "cell_type": "markdown",
      "metadata": {
        "id": "view-in-github",
        "colab_type": "text"
      },
      "source": [
        "<a href=\"https://colab.research.google.com/github/iypc-team/CurrentProject/blob/master/Github_Repositories.ipynb\" target=\"_parent\"><img src=\"https://colab.research.google.com/assets/colab-badge.svg\" alt=\"Open In Colab\"/></a>"
      ]
    },
    {
      "cell_type": "code",
      "metadata": {
        "colab_type": "code",
        "id": "6CK3OX-_1lFR",
        "colab": {}
      },
      "source": [
        "from __future__ import absolute_import\n",
        "from IPython.display import clear_output\n",
        "%pip install GitPython\n",
        "clear_output()\n",
        "\n",
        "import git, gitdb, os, pathlib, sys\n",
        "from os.path import *\n",
        "# from pathlib import Path\n",
        "import FileUtilities\n",
        "from FileUtilities import *\n",
        "global gr\n",
        "print(f'fu = FileUtilities()')\n",
        "print(f'{C.LITE}{fu.__dir__()}')"
      ],
      "execution_count": null,
      "outputs": []
    },
    {
      "cell_type": "code",
      "metadata": {
        "id": "knyntzjgL546",
        "colab_type": "code",
        "colab": {}
      },
      "source": [
        "fu.updateAllFiles()\n",
        "fu.listFiles()\n",
        "\n",
        "fu.inspectFile(54)"
      ],
      "execution_count": null,
      "outputs": []
    },
    {
      "cell_type": "code",
      "metadata": {
        "colab_type": "code",
        "id": "EbrtpsIVd-iI",
        "colab": {}
      },
      "source": [
        "class GithubRepos():\n",
        "    def __dir__(self):\n",
        "        pass\n",
        "        \n",
        "    def __init__(self):\n",
        "        self.colabRepo = None\n",
        "        \n",
        "    def getCurrentProjectRepo(self):\n",
        "        currentProjectURL = 'https://github.com/iypc-team/CurrentProject'\n",
        "    \n",
        "    def getCoLabRepo(self):\n",
        "        colabURL = 'https://github.com/iypc-team/CoLab'\n",
        "        localURL = join(fu.cwdPath, basename(colabURL))\n",
        "        if not exists(localURL):\n",
        "            colabRepo = git.Repo.clone_from(url=colabURL, to_path=localURL)\n",
        "        else: print(f'{C.GREEN}{repo.description}')\n",
        "\n",
        "    def listRemotes(self):\n",
        "        print('Remotes:')\n",
        "        for remote in repo.remotes:\n",
        "            print(f'{remote.name} {remote.url}')\n",
        "gr = GithubRepos()\n",
        "getCoLabRepo()"
      ],
      "execution_count": null,
      "outputs": []
    }
  ]
}
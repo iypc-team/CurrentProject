{
  "nbformat": 4,
  "nbformat_minor": 0,
  "metadata": {
    "colab": {
      "name": "GDrive.ipynb",
      "provenance": [],
      "collapsed_sections": [],
      "include_colab_link": true
    },
    "kernelspec": {
      "name": "python3",
      "display_name": "Python 3"
    }
  },
  "cells": [
    {
      "cell_type": "markdown",
      "metadata": {
        "id": "view-in-github",
        "colab_type": "text"
      },
      "source": [
        "<a href=\"https://colab.research.google.com/github/iypc-team/CurrentProject/blob/master/GDrive.ipynb\" target=\"_parent\"><img src=\"https://colab.research.google.com/assets/colab-badge.svg\" alt=\"Open In Colab\"/></a>"
      ]
    },
    {
      "cell_type": "code",
      "metadata": {
        "id": "X16cFwGsVxu_",
        "colab_type": "code",
        "colab": {}
      },
      "source": [
        "from IPython.display import  clear_output\n",
        "# installsCompleted = False\n",
        "# gDriveAuthorized = False\n",
        "filesDictionary = {}"
      ],
      "execution_count": null,
      "outputs": []
    },
    {
      "cell_type": "code",
      "metadata": {
        "id": "Tt63sL_jMnGU",
        "colab_type": "code",
        "colab": {}
      },
      "source": [
        "if not installsCompleted:\n",
        "    %pip install google-api-python-client \n",
        "    %pip install google-auth-httplib2\n",
        "    %pip install google-auth-oauthlib\n",
        "    \n",
        "    installsCompleted = True\n",
        "clear_output()\n",
        "print(\"All installs completed\")"
      ],
      "execution_count": null,
      "outputs": []
    },
    {
      "cell_type": "code",
      "metadata": {
        "id": "o95R1uOGwQ-Z",
        "colab_type": "code",
        "colab": {}
      },
      "source": [
        "if not gDriveAuthorized:\n",
        "    # Import PyDrive and associated libraries.\n",
        "    # This only needs to be done once per notebook.\n",
        "    from pydrive.auth import GoogleAuth\n",
        "    from pydrive.drive import GoogleDrive\n",
        "    from google.colab import auth\n",
        "    from oauth2client.client import GoogleCredentials\n",
        "    \n",
        "    # Authenticate and create the PyDrive client.\n",
        "    # This only needs to be done once per notebook.\n",
        "    auth.authenticate_user()\n",
        "    gauth = GoogleAuth()\n",
        "    gauth.credentials = GoogleCredentials.get_application_default()\n",
        "    drive = GoogleDrive(gauth)\n",
        "    gDriveAuthorized = True\n",
        "\n",
        "print(\"Google drive authorized\")"
      ],
      "execution_count": null,
      "outputs": []
    },
    {
      "cell_type": "code",
      "metadata": {
        "id": "hMl_7xh1l24r",
        "colab_type": "code",
        "colab": {}
      },
      "source": [
        "import os\n",
        "from os.path import *\n",
        "# List files in GDrive\n",
        "drive = GoogleDrive(gauth)\n",
        "print(\"Search query reference:\")\n",
        "print(\"https://developers.google.com/drive/v2/web/search-parameters\", '\\n')\n",
        "\n",
        "listed = drive.ListFile({'q': \"title contains '.*' and 'root' in parents\"}).GetList()\n",
        "for file in listed:\n",
        "    print('file: {},  id: {}'.format(file['title'], file['id']))\n",
        "    filesDictionary[file['title']] = file['id']"
      ],
      "execution_count": null,
      "outputs": []
    },
    {
      "cell_type": "code",
      "metadata": {
        "id": "-n9XhvnhKs2m",
        "colab_type": "code",
        "colab": {}
      },
      "source": [
        "# Create and upload file\n",
        "drive = GoogleDrive(gauth)\n",
        "\n",
        "uploaded = drive.CreateFile({'title': 'gAuth.txt'})\n",
        "uploaded.SetContentString(gauth.credentials.access_token)\n",
        "uploaded.Upload()\n",
        "print('Uploaded file with ID {}'.format(uploaded.get('id')))\n",
        "print('Uploaded file with Name: {}'.format(uploaded.get('title')))"
      ],
      "execution_count": null,
      "outputs": []
    },
    {
      "cell_type": "code",
      "metadata": {
        "id": "leAy0ukYosod",
        "colab_type": "code",
        "colab": {}
      },
      "source": [
        "print(gauth.credentials.access_token)"
      ],
      "execution_count": null,
      "outputs": []
    }
  ]
}
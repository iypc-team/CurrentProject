{
  "nbformat": 4,
  "nbformat_minor": 0,
  "metadata": {
    "colab": {
      "name": "Github_Repositories_Google.ipynb",
      "provenance": [],
      "collapsed_sections": [],
      "include_colab_link": true
    },
    "kernelspec": {
      "display_name": "Python 3",
      "language": "python",
      "name": "python3"
    },
    "language_info": {
      "codemirror_mode": {
        "name": "ipython",
        "version": 3
      },
      "file_extension": ".py",
      "mimetype": "text/x-python",
      "name": "python",
      "nbconvert_exporter": "python",
      "pygments_lexer": "ipython3",
      "version": "3.7.6"
    }
  },
  "cells": [
    {
      "cell_type": "markdown",
      "metadata": {
        "id": "view-in-github",
        "colab_type": "text"
      },
      "source": [
        "<a href=\"https://colab.research.google.com/github/iypc-team/CurrentProject/blob/master/Github_Repositories_Google.ipynb\" target=\"_parent\"><img src=\"https://colab.research.google.com/assets/colab-badge.svg\" alt=\"Open In Colab\"/></a>"
      ]
    },
    {
      "cell_type": "code",
      "metadata": {
        "id": "xlBjelD7VUEh",
        "colab_type": "code",
        "colab": {}
      },
      "source": [
        "# Import PyDrive and associated libraries.\n",
        "# This only needs to be done once per notebook.\n",
        "from pydrive.auth import GoogleAuth\n",
        "from pydrive.drive import GoogleDrive\n",
        "from google.colab import auth\n",
        "from oauth2client.client import GoogleCredentials\n",
        "\n",
        "# Authenticate and create the PyDrive client.\n",
        "# This only needs to be done once per notebook.\n",
        "# auth.authenticate_user()\n",
        "# gauth = GoogleAuth()\n",
        "# gauth.credentials = GoogleCredentials.get_application_default()\n",
        "# drive = GoogleDrive(gauth)\n",
        "\n",
        "# Download a file based on its file ID.\n",
        "#\n",
        "# A file ID looks like: laggVyWshwcyP6kEI-y_W3P8D26sz\n",
        "file_id = 'FileUtilities.py'\n",
        "downloaded = drive.CreateFile({'id': file_id})\n",
        "print('Downloaded content \"{}\"'.format(downloaded.GetContentString()))"
      ],
      "execution_count": null,
      "outputs": []
    },
    {
      "cell_type": "code",
      "metadata": {
        "id": "zR6q1TCRcX4-",
        "colab_type": "code",
        "colab": {
          "base_uri": "https://localhost:8080/",
          "height": 214
        },
        "outputId": "80a181d5-a5f8-4367-d8b7-e7fe9460ccaf"
      },
      "source": [
        "from google.colab import drive\n",
        "drive.mount('/gdrive')"
      ],
      "execution_count": 6,
      "outputs": [
        {
          "output_type": "stream",
          "text": [
            "Go to this URL in a browser: https://accounts.google.com/o/oauth2/auth?client_id=947318989803-6bn6qk8qdgf4n4g3pfee6491hc0brc4i.apps.googleusercontent.com&redirect_uri=urn%3aietf%3awg%3aoauth%3a2.0%3aoob&response_type=code&scope=email%20https%3a%2f%2fwww.googleapis.com%2fauth%2fdocs.test%20https%3a%2f%2fwww.googleapis.com%2fauth%2fdrive%20https%3a%2f%2fwww.googleapis.com%2fauth%2fdrive.photos.readonly%20https%3a%2f%2fwww.googleapis.com%2fauth%2fpeopleapi.readonly\n",
            "\n",
            "Enter your authorization code:\n",
            "··········\n",
            "Mounted at /gdrive\n"
          ],
          "name": "stdout"
        }
      ]
    },
    {
      "cell_type": "code",
      "metadata": {
        "id": "gy0y4VmgcX3l",
        "colab_type": "code",
        "colab": {
          "base_uri": "https://localhost:8080/",
          "height": 1000
        },
        "outputId": "e08658b5-ceef-492f-bcdf-cce08dc21fe8"
      },
      "source": [
        "with open('/gdrive/My Drive/FileUtilities.py', 'r') as f:\n",
        "  f.read()\n",
        "!cat '/gdrive/My Drive/FileUtilities.py'"
      ],
      "execution_count": 8,
      "outputs": [
        {
          "output_type": "stream",
          "text": [
            "from __future__ import absolute_import\n",
            "from IPython.display import clear_output\n",
            "import glob, os, pathlib, sys\n",
            "from os.path import *\n",
            "from pathlib import Path\n",
            "\n",
            "class ColorOutput:\n",
            "    LITE = '\\033[96m'; HEADER = '\\033[95m'; BLUE = '\\033[94m';\n",
            "    WARNING = '\\033[93m'; GREEN = '\\033[92m'; RED = '\\033[91m'; \n",
            "    DARK = '\\033[90m'; UNDERLINE = '\\033[4m';BOLD = '\\033[1m'; \n",
            "    WHITE = '\\033[0m'\n",
            "global C\n",
            "C = ColorOutput()\n",
            "\n",
            "class FileUtilities(ColorOutput):\n",
            "    def __all__(self):\n",
            "        return ['C', 'allFiles', 'allFilesDict', 'cwdPath', 'homePath', \n",
            "           'inspectFile', 'listFiles', 'printSystemPaths', \n",
            "           'setSystemPaths', 'updateAllFiles', 'GITHUB_TOKEN']\n",
            "    \n",
            "    def __dir__(self):\n",
            "        return ['C', 'allFiles', 'allFilesDict', 'cwdPath', 'homePath', \n",
            "           'inspectFile', 'listFiles', 'printSystemPaths', \n",
            "           'setSystemPaths', 'updateAllFiles', 'GITHUB_TOKEN']\n",
            "    \n",
            "    def __init__(self):\n",
            "        self.C = ColorOutput\n",
            "        self.homePath = Path.home()\n",
            "        self.cwdPath = Path.cwd()\n",
            "        self.allFiles = glob.glob('**', recursive=True)\n",
            "        self.allFilesDict = {}\n",
            "        self.GITHUB_TOKEN = 'Access token revoked. Get a new token.'\n",
            "\n",
            "    def updateAllFiles(self):\n",
            "        self.allFiles = glob.glob('**', recursive=True)\n",
            "\n",
            "    def setSystemPaths(self, addNewPath, quit=True):  \n",
            "        addNewPath = realpath(addNewPath)\n",
            "        pathList = sys.path.copy()\n",
            "        if not addNewPath in pathList and exists(addNewPath):\n",
            "            sys.path.append(addNewPath)\n",
            "\n",
            "    def listFiles(self, quiet=False):\n",
            "        self.updateAllFiles()\n",
            "        self.allFiles = sorted(self.allFiles)\n",
            "        tempDict = self.allFilesDict\n",
            "        fileCount = 0\n",
            "        if not quiet:\n",
            "            print(f'{C.BLUE}{self.cwdPath}')\n",
            "        self.setSystemPaths(addNewPath=self.cwdPath)\n",
            "        for fil in self.allFiles:\n",
            "            fullPath = Path(realpath(fil)) # POSIX path\n",
            "            realPath = realpath(fil) # String path\n",
            "            if isdir(fullPath) and not realPath.__contains__('__pycache__'):  \n",
            "                if not quiet:\n",
            "                    print(f'\\n{C.BLUE}{fullPath}')\n",
            "                self.setSystemPaths(addNewPath=realPath) \n",
            "            elif isfile(fullPath) and not realPath.__contains__('__pycache__'): \n",
            "                fileCount += 1\n",
            "                if not quiet:\n",
            "                    print(f'{C.WHITE}{fileCount}. {fullPath.name}') \n",
            "                tempDict[fileCount] = fullPath\n",
            "                self.allFilesDict = {}\n",
            "                self.allFilesDict.update(tempDict)\n",
            "\n",
            "    def inspectFile(self, selection):\n",
            "        print('\\n')\n",
            "        if selection <= len(self.allFilesDict):  \n",
            "            try:\n",
            "                pth = self.allFilesDict[selection]  \n",
            "                with open(pth, 'r') as openFile:  \n",
            "                    print(f'# %%writefile {pth.name}\\n')  \n",
            "                    print(openFile.read())\n",
            "            except:\n",
            "                print(f'{C.RED}BULLSHIT')\n",
            "\n",
            "    def printSystemPaths(self):\n",
            "        pathList = sys.path.copy() \n",
            "        pathCount = 0\n",
            "        for pth in sorted(pathList):\n",
            "            pathCount += 1\n",
            "            print(f'{C.WHITE}{pathCount}. {C.BLUE}{pth}')\n",
            "\n",
            "global fu\n",
            "fu = FileUtilities()\n",
            "fu.listFiles(quiet=True)\n",
            "# print(f'fu = {C.WHITE}FileUtilities()')\n",
            "# print(f'{C.LITE}{fu.__dir__()}')\n"
          ],
          "name": "stdout"
        }
      ]
    },
    {
      "cell_type": "code",
      "metadata": {
        "id": "pMKmYE1TbGWk",
        "colab_type": "code",
        "colab": {
          "base_uri": "https://localhost:8080/",
          "height": 51
        },
        "outputId": "582cf31e-f1b7-486f-e04e-b774e6febb67"
      },
      "source": [
        "from google.colab import files\n",
        "\n",
        "with open('example.txt', 'w') as f:\n",
        "  f.write('some content')\n",
        "\n",
        "files.download('example.txt')"
      ],
      "execution_count": 5,
      "outputs": [
        {
          "output_type": "display_data",
          "data": {
            "application/javascript": [
              "\n",
              "    async function download(id, filename, size) {\n",
              "      if (!google.colab.kernel.accessAllowed) {\n",
              "        return;\n",
              "      }\n",
              "      const div = document.createElement('div');\n",
              "      const label = document.createElement('label');\n",
              "      label.textContent = `Downloading \"${filename}\": `;\n",
              "      div.appendChild(label);\n",
              "      const progress = document.createElement('progress');\n",
              "      progress.max = size;\n",
              "      div.appendChild(progress);\n",
              "      document.body.appendChild(div);\n",
              "\n",
              "      const buffers = [];\n",
              "      let downloaded = 0;\n",
              "\n",
              "      const channel = await google.colab.kernel.comms.open(id);\n",
              "      // Send a message to notify the kernel that we're ready.\n",
              "      channel.send({})\n",
              "\n",
              "      for await (const message of channel.messages) {\n",
              "        // Send a message to notify the kernel that we're ready.\n",
              "        channel.send({})\n",
              "        if (message.buffers) {\n",
              "          for (const buffer of message.buffers) {\n",
              "            buffers.push(buffer);\n",
              "            downloaded += buffer.byteLength;\n",
              "            progress.value = downloaded;\n",
              "          }\n",
              "        }\n",
              "      }\n",
              "      const blob = new Blob(buffers, {type: 'application/binary'});\n",
              "      const a = document.createElement('a');\n",
              "      a.href = window.URL.createObjectURL(blob);\n",
              "      a.download = filename;\n",
              "      div.appendChild(a);\n",
              "      a.click();\n",
              "      div.remove();\n",
              "    }\n",
              "  "
            ],
            "text/plain": [
              "<IPython.core.display.Javascript object>"
            ]
          },
          "metadata": {
            "tags": []
          }
        },
        {
          "output_type": "display_data",
          "data": {
            "application/javascript": [
              "download(\"download_33d1bfad-0c55-4969-b6d1-34a9db248815\", \"example.txt\", 12)"
            ],
            "text/plain": [
              "<IPython.core.display.Javascript object>"
            ]
          },
          "metadata": {
            "tags": []
          }
        }
      ]
    },
    {
      "cell_type": "code",
      "metadata": {
        "colab_type": "code",
        "id": "6CK3OX-_1lFR",
        "colab": {
          "base_uri": "https://localhost:8080/",
          "height": 567
        },
        "outputId": "5ae3f952-cbbc-437f-8e3f-2b6f518efe42"
      },
      "source": [
        "from __future__ import absolute_import\n",
        "from IPython.display import clear_output\n",
        "%pip install GitPython\n",
        "clear_output()\n",
        "\n",
        "\n",
        "\n",
        "import git, gitdb, os, pathlib, sys\n",
        "from os.path import *\n",
        "import FileUtilities\n",
        "from FileUtilities import *\n",
        "\n",
        "global gr\n",
        "print(f'fu = FileUtilities()')\n",
        "print(f'{C.LITE}{fu.__dir__()}')"
      ],
      "execution_count": 9,
      "outputs": [
        {
          "output_type": "error",
          "ename": "ModuleNotFoundError",
          "evalue": "ignored",
          "traceback": [
            "\u001b[0;31m---------------------------------------------------------------------------\u001b[0m",
            "\u001b[0;31mModuleNotFoundError\u001b[0m                       Traceback (most recent call last)",
            "\u001b[0;32m<ipython-input-9-14ea45caf919>\u001b[0m in \u001b[0;36m<module>\u001b[0;34m()\u001b[0m\n\u001b[1;32m      8\u001b[0m \u001b[0;32mimport\u001b[0m \u001b[0mgit\u001b[0m\u001b[0;34m,\u001b[0m \u001b[0mgitdb\u001b[0m\u001b[0;34m,\u001b[0m \u001b[0mos\u001b[0m\u001b[0;34m,\u001b[0m \u001b[0mpathlib\u001b[0m\u001b[0;34m,\u001b[0m \u001b[0msys\u001b[0m\u001b[0;34m\u001b[0m\u001b[0;34m\u001b[0m\u001b[0m\n\u001b[1;32m      9\u001b[0m \u001b[0;32mfrom\u001b[0m \u001b[0mos\u001b[0m\u001b[0;34m.\u001b[0m\u001b[0mpath\u001b[0m \u001b[0;32mimport\u001b[0m \u001b[0;34m*\u001b[0m\u001b[0;34m\u001b[0m\u001b[0;34m\u001b[0m\u001b[0m\n\u001b[0;32m---> 10\u001b[0;31m \u001b[0;32mimport\u001b[0m \u001b[0mFileUtilities\u001b[0m\u001b[0;34m\u001b[0m\u001b[0;34m\u001b[0m\u001b[0m\n\u001b[0m\u001b[1;32m     11\u001b[0m \u001b[0;32mfrom\u001b[0m \u001b[0mFileUtilities\u001b[0m \u001b[0;32mimport\u001b[0m \u001b[0;34m*\u001b[0m\u001b[0;34m\u001b[0m\u001b[0;34m\u001b[0m\u001b[0m\n\u001b[1;32m     12\u001b[0m \u001b[0;34m\u001b[0m\u001b[0m\n",
            "\u001b[0;31mModuleNotFoundError\u001b[0m: No module named 'FileUtilities'",
            "",
            "\u001b[0;31m---------------------------------------------------------------------------\u001b[0;32m\nNOTE: If your import is failing due to a missing package, you can\nmanually install dependencies using either !pip or !apt.\n\nTo view examples of installing some common dependencies, click the\n\"Open Examples\" button below.\n\u001b[0;31m---------------------------------------------------------------------------\u001b[0m\n"
          ]
        }
      ]
    },
    {
      "cell_type": "code",
      "metadata": {
        "colab_type": "code",
        "id": "EbrtpsIVd-iI",
        "colab": {}
      },
      "source": [
        "class GithubRepos():\n",
        "    def __dir__(self):\n",
        "        pass\n",
        "        \n",
        "    def __init__(self):\n",
        "        self.remoteList = []\n",
        "        \n",
        "    def getCurrentProjectRepo(self):\n",
        "        currentProjectURL = 'https://github.com/iypc-team/CurrentProject'\n",
        "        localURL = join(fu.cwdPath, basename(currentProjectURL))\n",
        "        print(basename(currentProjectURL))\n",
        "        if not exists(localURL):\n",
        "            currentProjectRepo = git.Repo.clone_from(currentProjectURL, localURL)\n",
        "            self.remoteList.append(currentProjectRepo)\n",
        "        else: print(f'{C.HEADER}{basename(localURL)} already exists')\n",
        "    \n",
        "    def getCoLabRepo(self):\n",
        "        thisRepo = None\n",
        "        colabURL = 'https://github.com/iypc-team/CoLab'\n",
        "        localURL = join(fu.cwdPath, basename(colabURL))\n",
        "        if not exists(localURL):\n",
        "            thisRepo = git.Repo.clone_from(colabURL, localURL)\n",
        "            self.remoteList.append(thisRepo)\n",
        "        else: print(f'{C.GREEN}{thisRepo}')\n",
        "\n",
        "    def listRemotes(self):\n",
        "        print(f'{C.WHITE}Remotes:')\n",
        "        print(f'{C.RED}{self.remoteList}')\n",
        "        for rpo in self.remoteList:\n",
        "            print(rpo)\n",
        "            print(f'{rpo}')\n",
        "            \n",
        "gr = GithubRepos()\n",
        "gr.getCoLabRepo()\n",
        "gr.listRemotes()"
      ],
      "execution_count": null,
      "outputs": []
    },
    {
      "cell_type": "code",
      "metadata": {
        "colab_type": "code",
        "id": "J5UFjfnE8swh",
        "colab": {}
      },
      "source": [
        "for root, dirs, files in os.walk(\".\", topdown=True):\n",
        "    print(f'{C.RED}{root}root')\n",
        "    for name in files:\n",
        "        fileName = basename(os.path.join(root, name))\n",
        "        print(f'{C.WHITE}{fileName}')\n",
        "    for name in dirs:\n",
        "        print(f'{C.BLUE}{os.path.join(root, name)}\\n')"
      ],
      "execution_count": null,
      "outputs": []
    },
    {
      "cell_type": "code",
      "metadata": {
        "colab_type": "code",
        "id": "9yHtWJYSRN7w",
        "colab": {}
      },
      "source": [
        "fu.inspectFile(4)"
      ],
      "execution_count": null,
      "outputs": []
    }
  ]
}
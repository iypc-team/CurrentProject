{
  "nbformat": 4,
  "nbformat_minor": 0,
  "metadata": {
    "kernelspec": {
      "display_name": "Python 3",
      "language": "python",
      "name": "python3"
    },
    "language_info": {
      "codemirror_mode": {
        "name": "ipython",
        "version": 3
      },
      "file_extension": ".py",
      "mimetype": "text/x-python",
      "name": "python",
      "nbconvert_exporter": "python",
      "pygments_lexer": "ipython3",
      "version": "3.7.8"
    },
    "colab": {
      "name": "CoLab_CommandLine.ipynb",
      "provenance": [],
      "collapsed_sections": [],
      "include_colab_link": true
    }
  },
  "cells": [
    {
      "cell_type": "markdown",
      "metadata": {
        "id": "view-in-github",
        "colab_type": "text"
      },
      "source": [
        "<a href=\"https://colab.research.google.com/github/iypc-team/CurrentProject/blob/master/CoLab_CommandLine.ipynb\" target=\"_parent\"><img src=\"https://colab.research.google.com/assets/colab-badge.svg\" alt=\"Open In Colab\"/></a>"
      ]
    },
    {
      "cell_type": "code",
      "metadata": {
        "id": "1SVR7J4UCw-M",
        "colab_type": "code",
        "colab": {
          "base_uri": "https://localhost:8080/",
          "height": 35
        },
        "outputId": "91c954bd-1b44-471c-8619-09e66b7fc6cd"
      },
      "source": [
        "# 08/02/2020-2\n",
        "from google.colab import drive\n",
        "drive.mount('/content/gdrive/', timeout_ms=600000, force_remount=True)"
      ],
      "execution_count": 1,
      "outputs": [
        {
          "output_type": "stream",
          "text": [
            "Mounted at /content/gdrive/\n"
          ],
          "name": "stdout"
        }
      ]
    },
    {
      "cell_type": "code",
      "metadata": {
        "id": "O3R419cubQBU",
        "colab_type": "code",
        "colab": {
          "base_uri": "https://localhost:8080/",
          "height": 559
        },
        "outputId": "f0dd5ad5-bbe3-4ab1-fecc-8c29d8ee618a"
      },
      "source": [
        "!ls # List contents of directory \n",
        "print()\n",
        "!ls -l # To show more details at the -l option \n",
        "print()\n",
        "!mkdir PythonFiles # To make a directory\n",
        "!mkdir Downloads\n",
        "print()\n",
        "%ls"
      ],
      "execution_count": 2,
      "outputs": [
        {
          "output_type": "stream",
          "text": [
            "BrownFox_2.py  Downloads\t FileUtilities.py.1  PythonFiles\n",
            "BrownFox.py    FileUtilities.py  gdrive\t\t     sample_data\n",
            "\n",
            "total 32\n",
            "-rw-r--r-- 1 root root   54 Aug  2 21:30 BrownFox_2.py\n",
            "-rw-r--r-- 1 root root   47 Aug  2 21:48 BrownFox.py\n",
            "drwxr-xr-x 2 root root 4096 Aug  2 21:29 Downloads\n",
            "-rw-r--r-- 1 root root    1 Aug  2 21:29 FileUtilities.py\n",
            "-rw-r--r-- 1 root root    1 Aug  2 21:30 FileUtilities.py.1\n",
            "drwx------ 4 root root 4096 Aug  2 21:49 gdrive\n",
            "drwxr-xr-x 2 root root 4096 Aug  2 21:29 PythonFiles\n",
            "drwxr-xr-x 1 root root 4096 Jul 30 16:30 sample_data\n",
            "\n",
            "mkdir: cannot create directory ‘PythonFiles’: File exists\n",
            "mkdir: cannot create directory ‘Downloads’: File exists\n",
            "\n",
            "BrownFox_2.py  \u001b[0m\u001b[01;34mDownloads\u001b[0m/        FileUtilities.py.1  \u001b[01;34mPythonFiles\u001b[0m/\n",
            "BrownFox.py    FileUtilities.py  \u001b[01;34mgdrive\u001b[0m/             \u001b[01;34msample_data\u001b[0m/\n"
          ],
          "name": "stdout"
        }
      ]
    },
    {
      "cell_type": "code",
      "metadata": {
        "id": "sVwND4w9qNrQ",
        "colab_type": "code",
        "colab": {
          "base_uri": "https://localhost:8080/",
          "height": 123
        },
        "outputId": "a89a43ef-966b-453e-eb82-03b20789a610"
      },
      "source": [
        "!mkdir Downloads # make a directory "
      ],
      "execution_count": 3,
      "outputs": [
        {
          "output_type": "stream",
          "text": [
            "mkdir: cannot create directory ‘Downloads’: File exists\n"
          ],
          "name": "stdout"
        }
      ]
    },
    {
      "cell_type": "code",
      "metadata": {
        "id": "ea07nYj2t3Ai",
        "colab_type": "code",
        "colab": {
          "base_uri": "https://localhost:8080/",
          "height": 141
        },
        "outputId": "71d49593-fe2b-4720-db27-a5706bc6ab0c"
      },
      "source": [
        "# Create a file in bash\n",
        "!echo 'The quick brown fox jumped\\nover the lazy cat.' > BrownFox.py\n",
        "%ls"
      ],
      "execution_count": 4,
      "outputs": [
        {
          "output_type": "stream",
          "text": [
            "BrownFox_2.py  \u001b[0m\u001b[01;34mDownloads\u001b[0m/        FileUtilities.py.1  \u001b[01;34mPythonFiles\u001b[0m/\n",
            "BrownFox.py    FileUtilities.py  \u001b[01;34mgdrive\u001b[0m/             \u001b[01;34msample_data\u001b[0m/\n"
          ],
          "name": "stdout"
        }
      ]
    },
    {
      "cell_type": "code",
      "metadata": {
        "id": "PG-OoWaXt5_r",
        "colab_type": "code",
        "colab": {}
      },
      "source": [
        "# create files in python \n",
        "fileText='''The quick brown fox...\\nFucked the lazy cat up the ass.'''\n",
        "with open('BrownFox_2.py', 'w') as openFile:\n",
        "    openFile.write(fileText)\n",
        "    openFile.close()"
      ],
      "execution_count": 5,
      "outputs": []
    },
    {
      "cell_type": "code",
      "metadata": {
        "id": "iCjtHq4X2ykm",
        "colab_type": "code",
        "colab": {
          "base_uri": "https://localhost:8080/",
          "height": 550
        },
        "outputId": "f6188cba-9272-4961-c298-17d6dd3b95d4"
      },
      "source": [
        "# Download files from the Internet \n",
        "!wget https://github.com/iypc-team/CurrentProject/raw/master/FileUtilities.py\n",
        "print()"
      ],
      "execution_count": 6,
      "outputs": [
        {
          "output_type": "stream",
          "text": [
            "--2020-08-02 21:50:01--  https://github.com/iypc-team/CurrentProject/raw/master/FileUtilities.py\n",
            "Resolving github.com (github.com)... 140.82.114.3\n",
            "Connecting to github.com (github.com)|140.82.114.3|:443... connected.\n",
            "HTTP request sent, awaiting response... 302 Found\n",
            "Location: https://raw.githubusercontent.com/iypc-team/CurrentProject/master/FileUtilities.py [following]\n",
            "--2020-08-02 21:50:02--  https://raw.githubusercontent.com/iypc-team/CurrentProject/master/FileUtilities.py\n",
            "Resolving raw.githubusercontent.com (raw.githubusercontent.com)... 151.101.0.133, 151.101.64.133, 151.101.128.133, ...\n",
            "Connecting to raw.githubusercontent.com (raw.githubusercontent.com)|151.101.0.133|:443... connected.\n",
            "HTTP request sent, awaiting response... 200 OK\n",
            "Length: 1 [text/plain]\n",
            "Saving to: ‘FileUtilities.py.2’\n",
            "\n",
            "FileUtilities.py.2  100%[===================>]       1  --.-KB/s    in 0s      \n",
            "\n",
            "2020-08-02 21:50:02 (53.6 KB/s) - ‘FileUtilities.py.2’ saved [1/1]\n",
            "\n",
            "\n"
          ],
          "name": "stdout"
        }
      ]
    },
    {
      "cell_type": "code",
      "metadata": {
        "id": "3RHqjOeJ_NoN",
        "colab_type": "code",
        "colab": {
          "base_uri": "https://localhost:8080/",
          "height": 203
        },
        "outputId": "80e3fa3f-644d-4f71-86dd-927bce705fb7"
      },
      "source": [
        "!cat BrownFox.py\n",
        "print()\n",
        "!cat BrownFox_2.py"
      ],
      "execution_count": 7,
      "outputs": [
        {
          "output_type": "stream",
          "text": [
            "The quick brown fox jumped\\nover the lazy cat.\n",
            "\n",
            "The quick brown fox...\n",
            "Fucked the lazy cat up the ass."
          ],
          "name": "stdout"
        }
      ]
    },
    {
      "cell_type": "code",
      "metadata": {
        "id": "iGc-xCO3AZs7",
        "colab_type": "code",
        "colab": {
          "base_uri": "https://localhost:8080/",
          "height": 283
        },
        "outputId": "2b174089-0746-4597-c823-9462bac61f4e"
      },
      "source": [
        "#Access Google Drive from Colab\n",
        "%ls '/content/gdrive/My Drive/'\n",
        "print()\n",
        "%ls '/content/gdrive/My Drive/ColabNotebooks'"
      ],
      "execution_count": 8,
      "outputs": [
        {
          "output_type": "stream",
          "text": [
            " \u001b[0m\u001b[01;34mColabNotebooks\u001b[0m/          foo.txt                GoogleAuth.txt\n",
            "\u001b[01;34m'Colab Notebooks'\u001b[0m/       'gAuth (1).txt'         \u001b[01;34mImages\u001b[0m/\n",
            " File_Utilities_2.ipynb   gAuthCredentials.txt   \u001b[01;34m__pycache__\u001b[0m/\n",
            " FileUtilities.py         gAuth.txt              \u001b[01;34mSwift\u001b[0m/\n",
            " fool.txt                 Github_Login.ipynb\n",
            "\n",
            "GoogleDrive_Files.ipynb  Jon_Krohn.ipynb  Phil_Tabor.ipynb\n"
          ],
          "name": "stdout"
        }
      ]
    },
    {
      "cell_type": "code",
      "metadata": {
        "id": "wtYa3pyKBbX7",
        "colab_type": "code",
        "colab": {
          "base_uri": "https://localhost:8080/",
          "height": 63
        },
        "outputId": "0ee2093d-ba80-48e6-e43d-f2cee42f8be5"
      },
      "source": [
        "!pwd"
      ],
      "execution_count": 9,
      "outputs": [
        {
          "output_type": "stream",
          "text": [
            "/content\n"
          ],
          "name": "stdout"
        }
      ]
    },
    {
      "cell_type": "code",
      "metadata": {
        "id": "mEhxLxsq4186",
        "colab_type": "code",
        "colab": {}
      },
      "source": [
        "# !put https://github.com/iypc-team/raw/master/BrownFox.py"
      ],
      "execution_count": 10,
      "outputs": []
    }
  ]
}
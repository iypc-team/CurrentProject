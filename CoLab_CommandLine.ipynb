{
  "nbformat": 4,
  "nbformat_minor": 0,
  "metadata": {
    "colab": {
      "name": "CoLab_CommandLine.ipynb",
      "provenance": [],
      "collapsed_sections": [],
      "include_colab_link": true
    },
    "kernelspec": {
      "display_name": "Python 3",
      "language": "python",
      "name": "python3"
    },
    "language_info": {
      "codemirror_mode": {
        "name": "ipython",
        "version": 3
      },
      "file_extension": ".py",
      "mimetype": "text/x-python",
      "name": "python",
      "nbconvert_exporter": "python",
      "pygments_lexer": "ipython3",
      "version": "3.7.8"
    }
  },
  "cells": [
    {
      "cell_type": "markdown",
      "metadata": {
        "id": "view-in-github",
        "colab_type": "text"
      },
      "source": [
        "<a href=\"https://colab.research.google.com/github/iypc-team/CurrentProject/blob/master/CoLab_CommandLine.ipynb\" target=\"_parent\"><img src=\"https://colab.research.google.com/assets/colab-badge.svg\" alt=\"Open In Colab\"/></a>"
      ]
    },
    {
      "cell_type": "code",
      "metadata": {
        "colab_type": "code",
        "id": "1SVR7J4UCw-M",
        "colab": {}
      },
      "source": [
        "# 08/03/2020-2\n",
        "from google.colab import drive\n",
        "drive.mount('/content/gdrive/', timeout_ms=600000, force_remount=True)"
      ],
      "execution_count": null,
      "outputs": []
    },
    {
      "cell_type": "code",
      "metadata": {
        "colab_type": "code",
        "id": "TunQBH7JWNi5",
        "colab": {}
      },
      "source": [
        "from __future__ import absolute_import\n",
        "from IPython.display import clear_output\n",
        "import glob, os, pathlib, sys\n",
        "from os.path import *\n",
        "from pathlib import Path \n",
        "if not exists('FileUtilities.py'):\n",
        "    !wget https://github.com/iypc-team/CurrentProject/raw/master/FileUtilities.py  \n",
        "    # clear_output()\n",
        "import FileUtilities as fu\n",
        "# from FileUtilities import C\n",
        "print(f'Ok')"
      ],
      "execution_count": null,
      "outputs": []
    },
    {
      "cell_type": "code",
      "metadata": {
        "id": "bjLs4IdJqS4u",
        "colab_type": "code",
        "colab": {}
      },
      "source": [
        "allGDFiles = glob.glob('**', recursive=True)\n",
        "allGDFilesDict = {}\n",
        "sysPaths = sys.path.copy()\n",
        "dirCount = 0\n",
        "fileCount = 0\n",
        "def updateSystemPaths(pathNamed=None, silent=True):\n",
        "    if not pathNamed in sysPaths:\n",
        "        sys.path.append(pathNamed)\n",
        "    else: pass\n",
        "# print(f'{os.curdir}')\n",
        "for fil in sorted(allGDFiles):\n",
        "    thisFile = realpath(fil)\n",
        "    if exists(thisFile) and isdir(thisFile) and not thisFile.__contains__('__pycache__'):  \n",
        "        dirCount += 1\n",
        "        print(f'\\n{thisFile}')\n",
        "    elif exists(thisFile) and isfile(thisFile) and not thisFile.__contains__('__pycache__'):  \n",
        "        fileCount += 1\n",
        "        allGDFilesDict[fileCount] = thisFile\n",
        "        print(f'{fileCount}. {basename(thisFile)}')\n",
        "\n",
        "clear_output()\n",
        "pth = allGDFilesDict[11]\n",
        "with open(pth, 'r') as openFile:\n",
        "    print(openFile.read())\n",
        "# !cat FileUtilities.py"
      ],
      "execution_count": null,
      "outputs": []
    },
    {
      "cell_type": "code",
      "metadata": {
        "colab_type": "code",
        "id": "O3R419cubQBU",
        "colab": {}
      },
      "source": [
        "!ls # List contents of directory \n",
        "print()\n",
        "!ls -l # To show more details at the -l option \n",
        "print()\n",
        "!mkdir PythonFiles # To make a directory\n",
        "!mkdir Downloads\n",
        "print()\n",
        "%ls"
      ],
      "execution_count": null,
      "outputs": []
    },
    {
      "cell_type": "code",
      "metadata": {
        "colab_type": "code",
        "id": "ea07nYj2t3Ai",
        "colab": {}
      },
      "source": [
        "# Create a file in bash\n",
        "!echo 'The quick brown fox jumped\\nover the lazy cat.' > BrownFox.py\n",
        "%ls"
      ],
      "execution_count": null,
      "outputs": []
    },
    {
      "cell_type": "code",
      "metadata": {
        "colab_type": "code",
        "id": "PG-OoWaXt5_r",
        "colab": {}
      },
      "source": [
        "# create files in python \n",
        "fileText='''The quick brown fox...\\nFucked the lazy cat up the ass.'''\n",
        "with open('BrownFox_2.py', 'w') as openFile:\n",
        "    openFile.write(fileText)\n",
        "    openFile.close()"
      ],
      "execution_count": null,
      "outputs": []
    },
    {
      "cell_type": "code",
      "metadata": {
        "colab_type": "code",
        "id": "3RHqjOeJ_NoN",
        "colab": {}
      },
      "source": [
        "!cat BrownFox.py\n",
        "print()\n",
        "!cat BrownFox_2.py"
      ],
      "execution_count": null,
      "outputs": []
    },
    {
      "cell_type": "code",
      "metadata": {
        "colab_type": "code",
        "id": "iGc-xCO3AZs7",
        "colab": {}
      },
      "source": [
        "#Access Google Drive from Colab\n",
        "%ls '/content/gdrive/My Drive/'\n",
        "print()\n",
        "%ls '/content/gdrive/My Drive/ColabNotebooks'"
      ],
      "execution_count": null,
      "outputs": []
    },
    {
      "cell_type": "code",
      "metadata": {
        "colab_type": "code",
        "id": "wtYa3pyKBbX7",
        "colab": {}
      },
      "source": [
        "!pwd"
      ],
      "execution_count": null,
      "outputs": []
    },
    {
      "cell_type": "code",
      "metadata": {
        "colab_type": "code",
        "id": "mEhxLxsq4186",
        "colab": {}
      },
      "source": [
        "# !put https://github.com/iypc-team/raw/master/BrownFox.py"
      ],
      "execution_count": null,
      "outputs": []
    }
  ]
}
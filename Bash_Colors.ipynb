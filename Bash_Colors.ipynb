{
  "nbformat": 4,
  "nbformat_minor": 0,
  "metadata": {
    "kernelspec": {
      "display_name": "Python 3",
      "language": "python",
      "name": "python3"
    },
    "language_info": {
      "codemirror_mode": {
        "name": "ipython",
        "version": 3
      },
      "file_extension": ".py",
      "mimetype": "text/x-python",
      "name": "python",
      "nbconvert_exporter": "python",
      "pygments_lexer": "ipython3",
      "version": "3.7.8"
    },
    "colab": {
      "name": "Bash_Colors.ipynb",
      "provenance": [],
      "collapsed_sections": [],
      "include_colab_link": true
    }
  },
  "cells": [
    {
      "cell_type": "markdown",
      "metadata": {
        "id": "view-in-github",
        "colab_type": "text"
      },
      "source": [
        "<a href=\"https://colab.research.google.com/github/iypc-team/CurrentProject/blob/master/Bash_Colors.ipynb\" target=\"_parent\"><img src=\"https://colab.research.google.com/assets/colab-badge.svg\" alt=\"Open In Colab\"/></a>"
      ]
    },
    {
      "cell_type": "code",
      "metadata": {
        "id": "0zq4__qrUkhM",
        "colab_type": "code",
        "colab": {}
      },
      "source": [
        "# %%writefile BashColors.py\n",
        "# 08/20/2020-1\n",
        "\n",
        "global C\n",
        "\n",
        "class Colors(object):\n",
        "    def __init__(self):\n",
        "        pass\n",
        "\n",
        "    # Reset\n",
        "    ColorOff='\\033[0m'       # Text Reset\n",
        "    \n",
        "    # Regular Colors\n",
        "    Black='\\033[0;30m'        # Black\n",
        "    Red='\\033[0;31m'          # Red\n",
        "    Green='\\033[0;32m'        # Green\n",
        "    Yellow='\\033[0;33m'       # Yellow\n",
        "    Blue='\\033[0;34m'         # Blue\n",
        "    Purple='\\033[0;35m'       # Purple\n",
        "    Cyan='\\033[0;36m'         # Cyan\n",
        "    White='\\033[0;37m'        # White\n",
        "    \n",
        "    # Bold\n",
        "    BBlack='\\033[1;30m'       # Black\n",
        "    BRed='\\033[1;31m'         # Red\n",
        "    BGreen='\\033[1;32m'       # Green\n",
        "    BYellow='\\033[1;33m'      # Yellow\n",
        "    BBlue='\\033[1;34m'        # Blue\n",
        "    BPurple='\\033[1;35m'      # Purple\n",
        "    BCyan='\\033[1;36m'        # Cyan\n",
        "    BWhite='\\033[1;37m'       # White\n",
        "    \n",
        "    # Underline\n",
        "    UBlack='\\033[4;30m'       # Black\n",
        "    URed='\\033[4;31m'         # Red\n",
        "    UGreen='\\033[4;32m'       # Green\n",
        "    UYellow='\\033[4;33m'      # Yellow\n",
        "    UBlue='\\033[4;34m'        # Blue\n",
        "    UPurple='\\033[4;35m'      # Purple\n",
        "    UCyan='\\033[4;36m'        # Cyan\n",
        "    UWhite='\\033[4;37m'       # White\n",
        "    \n",
        "    # Background\n",
        "    OnBlack='\\033[40m'       # Black\n",
        "    OnRed='\\033[41m'         # Red\n",
        "    OnGreen='\\033[42m'       # Green\n",
        "    OnYellow='\\033[43m'      # Yellow\n",
        "    OnBlue='\\033[44m'        # Blue\n",
        "    OnPurple='\\033[45m'      # Purple\n",
        "    OnCyan='\\033[46m'        # Cyan\n",
        "    OnWhite='\\033[47m'       # White\n",
        "    \n",
        "    # High Intensity\n",
        "    IBlack='\\033[0;90m'       # Black\n",
        "    IRed='\\033[0;91m'         # Red\n",
        "    IGreen='\\033[0;92m'       # Green\n",
        "    IYellow='\\033[0;93m'      # Yellow\n",
        "    IBlue='\\033[0;94m'        # Blue\n",
        "    IPurple='\\033[0;95m'      # Purple\n",
        "    ICyan='\\033[0;96m'        # Cyan\n",
        "    IWhite='\\033[0;97m'       # White\n",
        "    \n",
        "    # Bold High Intensity\n",
        "    BIBlack='\\033[1;90m'      # Black\n",
        "    BIRed='\\033[1;91m'        # Red\n",
        "    BIGreen='\\033[1;92m'      # Green\n",
        "    BIYellow='\\033[1;93m'     # Yellow\n",
        "    BIBlue='\\033[1;94m'       # Blue\n",
        "    BIPurple='\\033[1;95m'     # Purple\n",
        "    BICyan='\\033[1;96m'       # Cyan\n",
        "    BIWhite='\\033[1;97m'      # White\n",
        "    \n",
        "    # High Intensity backgrounds\n",
        "    OnIBlack='\\033[0;100m'   # Black\n",
        "    OnIRed='\\033[0;101m'     # Red\n",
        "    OnIGreen='\\033[0;102m'   # Green\n",
        "    OnIYellow='\\033[0;103m'  # Yellow\n",
        "    OnIBlue='\\033[0;104m'    # Blue\n",
        "    OnIPurple='\\033[0;105m'  # Purple\n",
        "    OnICyan='\\033[0;106m'    # Cyan\n",
        "    OnIWhite='\\033[0;107m'   # White\n",
        "\n",
        "C = Colors()"
      ],
      "execution_count": 6,
      "outputs": []
    },
    {
      "cell_type": "code",
      "metadata": {
        "id": "Az7qkEg1U4R6",
        "colab_type": "code",
        "colab": {
          "base_uri": "https://localhost:8080/",
          "height": 71
        },
        "outputId": "455af35c-e13b-4e49-8008-e22120d108f5"
      },
      "source": [
        "\n",
        "print(f'{C.BIRed}  ok  ')\n",
        "print(f'{C.BIGreen}  ok  ')\n",
        "print(f'{C.BIBlue}  ok')"
      ],
      "execution_count": 2,
      "outputs": [
        {
          "output_type": "stream",
          "text": [
            "\u001b[1;91m  ok  \n",
            "\u001b[1;92m  ok  \n",
            "\u001b[1;94m  ok\n"
          ],
          "name": "stdout"
        }
      ]
    }
  ]
}